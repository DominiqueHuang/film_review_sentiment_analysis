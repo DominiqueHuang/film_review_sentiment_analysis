{
  "cells": [
    {
      "cell_type": "markdown",
      "source": [
        "# Proyek UAS: Sentiment Analysis using BERT (Movie Review)\n",
        "Dominique - 202000216"
      ],
      "metadata": {
        "id": "FH8tZ_lzLVab"
      }
    },
    {
      "cell_type": "markdown",
      "source": [
        "Di era digital, sistem ulasan film secara online telah mengubah cara penonton berinteraksi dengan konten film. Memahami sentimen yang diungkapkan dalam ulasan adalah hal yang sangat penting bagi para pembuat film, kritikus, dan penggemar film. Proyek ini bertujuan untuk membuat aplikasi sentiment analysis untuk melakukan analisa sentimen pada ulasan film. Dengan mendalami nuansa bahasa yang rumit, proyek ini berusaha untuk mengungkap sentimen, opini, dan reaksi yang diungkapkan penonton terhadap berbagai macam film. Aplikasi sentiment analysis ini akan menggunakan arsitektur transformer BERT.\n",
        "\n",
        "Analisis sentimen menggunakan BERT adalah tugas yang diskriminatif. Model diskriminatif bertujuan untuk mempelajari batasan antara kelas atau kategori yang berbeda dalam data. Dalam konteks analisis sentimen, tujuannya adalah untuk menentukan sentimen (positif, negatif, atau netral) dari suatu teks tertentu. BERT, sebagai model representasi bahasa terlatih, disesuaikan dengan data sentimen berlabel untuk mengoptimalkan kemampuannya dalam membedakan kelas sentimen yang berbeda. Model ini belajar memetakan teks input ke dalam kelas sentimen tertentu berdasarkan fitur dan pola yang telah dipelajari selama pelatihan."
      ],
      "metadata": {
        "id": "-BtYDj8elgUS"
      }
    },
    {
      "cell_type": "code",
      "execution_count": 35,
      "metadata": {
        "id": "40PEWqmL1LCb"
      },
      "outputs": [],
      "source": [
        "import os\n",
        "import shutil\n",
        "import tarfile\n",
        "import tensorflow as tf\n",
        "from transformers import BertTokenizer, TFBertForSequenceClassification\n",
        "import pandas as pd\n",
        "from bs4 import BeautifulSoup\n",
        "import re\n",
        "import matplotlib.pyplot as plt\n",
        "import plotly.express as px\n",
        "import plotly.offline as pyo\n",
        "import plotly.graph_objects as go\n",
        "from sklearn.model_selection import train_test_split\n",
        "from sklearn.metrics import classification_report"
      ]
    },
    {
      "cell_type": "markdown",
      "source": [
        "### 1. Loading dataset\n",
        "Data yang dipakai adalah kumpulan data review film dari Imdb yang telah diproses untuk klasifikasi sentimen biner oleh Stanford yang berisi 25.000 ulasan film yang sangat berbeda untuk pelatihan, dan 25.000 untuk pengujian. Ada juga data tambahan yang tidak berlabel untuk digunakan."
      ],
      "metadata": {
        "id": "LGq7TdwxLLOy"
      }
    },
    {
      "cell_type": "code",
      "execution_count": 2,
      "metadata": {
        "colab": {
          "base_uri": "https://localhost:8080/"
        },
        "id": "Ou7uzv3t1LCd",
        "outputId": "006ec8d6-2654-43e9-d4b9-1e434fb95e38"
      },
      "outputs": [
        {
          "output_type": "stream",
          "name": "stdout",
          "text": [
            "Downloading data from http://ai.stanford.edu/~amaas/data/sentiment/aclImdb_v1.tar.gz\n",
            "84125825/84125825 [==============================] - 10s 0us/step\n"
          ]
        }
      ],
      "source": [
        "current_folder = os.getcwd()\n",
        "\n",
        "dataset = tf.keras.utils.get_file(\n",
        "    fname =\"aclImdb.tar.gz\",\n",
        "    origin =\"http://ai.stanford.edu/~amaas/data/sentiment/aclImdb_v1.tar.gz\",\n",
        "    cache_dir=  current_folder,\n",
        "    extract = True)"
      ]
    },
    {
      "cell_type": "code",
      "execution_count": null,
      "metadata": {
        "id": "K5nyZpbj1LCe"
      },
      "outputs": [],
      "source": [
        "dataset_path = os.path.dirname(dataset)\n",
        "\n",
        "# Dataset directory\n",
        "dataset_dir = os.path.join(dataset_path, 'aclImdb')"
      ]
    },
    {
      "cell_type": "markdown",
      "source": [
        "Load dataset review film dengan sentimennya dan ubah menjadi dataframe pandas\n",
        "\n",
        "0: Negatif, 1: Positif"
      ],
      "metadata": {
        "id": "faPlaSbLSmwj"
      }
    },
    {
      "cell_type": "code",
      "execution_count": 7,
      "metadata": {
        "id": "ZNtmCzRB1LCe"
      },
      "outputs": [],
      "source": [
        "def load_dataset(directory):\n",
        "    data = {\"sentence\": [], \"sentiment\": []}\n",
        "    for file_name in os.listdir(directory):\n",
        "        print(file_name)\n",
        "        if file_name == 'pos':\n",
        "            positive_dir = os.path.join(directory, file_name)\n",
        "            for text_file in os.listdir(positive_dir):\n",
        "                text = os.path.join(positive_dir, text_file)\n",
        "                with open(text, \"r\", encoding=\"utf-8\") as f:\n",
        "                    data[\"sentence\"].append(f.read())\n",
        "                    data[\"sentiment\"].append(1)\n",
        "        elif file_name == 'neg':\n",
        "            negative_dir = os.path.join(directory, file_name)\n",
        "            for text_file in os.listdir(negative_dir):\n",
        "                text = os.path.join(negative_dir, text_file)\n",
        "                with open(text, \"r\", encoding=\"utf-8\") as f:\n",
        "                    data[\"sentence\"].append(f.read())\n",
        "                    data[\"sentiment\"].append(0)\n",
        "\n",
        "    return pd.DataFrame.from_dict(data)"
      ]
    },
    {
      "cell_type": "code",
      "execution_count": null,
      "metadata": {
        "id": "BcL6mk4i1LCe"
      },
      "outputs": [],
      "source": [
        "# Train dataframe\n",
        "train_dir = os.path.join(dataset_dir,'train')\n",
        "train_df = load_dataset(train_dir)\n",
        "\n",
        "# Test dataframe\n",
        "test_dir = os.path.join(dataset_dir,'test')\n",
        "test_df = load_dataset(test_dir)"
      ]
    },
    {
      "cell_type": "markdown",
      "source": [
        "### 2. Preprocessing\n",
        "Data yang sudah diload dibersihkan dengan melakukan text cleaning untuk  menghilangkan noise dan memastikan bahwa data siap dipakai untuk melatih model."
      ],
      "metadata": {
        "id": "iL_Q8Bj1TDGO"
      }
    },
    {
      "cell_type": "code",
      "execution_count": 10,
      "metadata": {
        "colab": {
          "base_uri": "https://localhost:8080/",
          "height": 561
        },
        "id": "1txnH8Uf1LCf",
        "outputId": "c7ead771-c63d-47f9-d8d9-b44335699097"
      },
      "outputs": [
        {
          "output_type": "display_data",
          "data": {
            "text/html": [
              "<html>\n",
              "<head><meta charset=\"utf-8\" /></head>\n",
              "<body>\n",
              "    <div>            <script src=\"https://cdnjs.cloudflare.com/ajax/libs/mathjax/2.7.5/MathJax.js?config=TeX-AMS-MML_SVG\"></script><script type=\"text/javascript\">if (window.MathJax && window.MathJax.Hub && window.MathJax.Hub.Config) {window.MathJax.Hub.Config({SVG: {font: \"STIX-Web\"}});}</script>                <script type=\"text/javascript\">window.PlotlyConfig = {MathJaxConfig: 'local'};</script>\n",
              "        <script charset=\"utf-8\" src=\"https://cdn.plot.ly/plotly-2.24.1.min.js\"></script>                <div id=\"928c00f0-c25d-48f0-9d1d-3839dab8e782\" class=\"plotly-graph-div\" style=\"height:525px; width:100%;\"></div>            <script type=\"text/javascript\">                                    window.PLOTLYENV=window.PLOTLYENV || {};                                    if (document.getElementById(\"928c00f0-c25d-48f0-9d1d-3839dab8e782\")) {                    Plotly.newPlot(                        \"928c00f0-c25d-48f0-9d1d-3839dab8e782\",                        [{\"alignmentgroup\":\"True\",\"hovertemplate\":\"x=%{x}\\u003cbr\\u003ey=%{y}\\u003cbr\\u003ecolor=%{marker.color}\\u003cextra\\u003e\\u003c\\u002fextra\\u003e\",\"legendgroup\":\"\",\"marker\":{\"color\":[1,0],\"coloraxis\":\"coloraxis\",\"pattern\":{\"shape\":\"\"}},\"name\":\"\",\"offsetgroup\":\"\",\"orientation\":\"v\",\"showlegend\":false,\"textposition\":\"auto\",\"x\":[\"Negative\",\"Positive\"],\"xaxis\":\"x\",\"y\":[12500,12500],\"yaxis\":\"y\",\"type\":\"bar\"}],                        {\"template\":{\"data\":{\"barpolar\":[{\"marker\":{\"line\":{\"color\":\"rgb(17,17,17)\",\"width\":0.5},\"pattern\":{\"fillmode\":\"overlay\",\"size\":10,\"solidity\":0.2}},\"type\":\"barpolar\"}],\"bar\":[{\"error_x\":{\"color\":\"#f2f5fa\"},\"error_y\":{\"color\":\"#f2f5fa\"},\"marker\":{\"line\":{\"color\":\"rgb(17,17,17)\",\"width\":0.5},\"pattern\":{\"fillmode\":\"overlay\",\"size\":10,\"solidity\":0.2}},\"type\":\"bar\"}],\"carpet\":[{\"aaxis\":{\"endlinecolor\":\"#A2B1C6\",\"gridcolor\":\"#506784\",\"linecolor\":\"#506784\",\"minorgridcolor\":\"#506784\",\"startlinecolor\":\"#A2B1C6\"},\"baxis\":{\"endlinecolor\":\"#A2B1C6\",\"gridcolor\":\"#506784\",\"linecolor\":\"#506784\",\"minorgridcolor\":\"#506784\",\"startlinecolor\":\"#A2B1C6\"},\"type\":\"carpet\"}],\"choropleth\":[{\"colorbar\":{\"outlinewidth\":0,\"ticks\":\"\"},\"type\":\"choropleth\"}],\"contourcarpet\":[{\"colorbar\":{\"outlinewidth\":0,\"ticks\":\"\"},\"type\":\"contourcarpet\"}],\"contour\":[{\"colorbar\":{\"outlinewidth\":0,\"ticks\":\"\"},\"colorscale\":[[0.0,\"#0d0887\"],[0.1111111111111111,\"#46039f\"],[0.2222222222222222,\"#7201a8\"],[0.3333333333333333,\"#9c179e\"],[0.4444444444444444,\"#bd3786\"],[0.5555555555555556,\"#d8576b\"],[0.6666666666666666,\"#ed7953\"],[0.7777777777777778,\"#fb9f3a\"],[0.8888888888888888,\"#fdca26\"],[1.0,\"#f0f921\"]],\"type\":\"contour\"}],\"heatmapgl\":[{\"colorbar\":{\"outlinewidth\":0,\"ticks\":\"\"},\"colorscale\":[[0.0,\"#0d0887\"],[0.1111111111111111,\"#46039f\"],[0.2222222222222222,\"#7201a8\"],[0.3333333333333333,\"#9c179e\"],[0.4444444444444444,\"#bd3786\"],[0.5555555555555556,\"#d8576b\"],[0.6666666666666666,\"#ed7953\"],[0.7777777777777778,\"#fb9f3a\"],[0.8888888888888888,\"#fdca26\"],[1.0,\"#f0f921\"]],\"type\":\"heatmapgl\"}],\"heatmap\":[{\"colorbar\":{\"outlinewidth\":0,\"ticks\":\"\"},\"colorscale\":[[0.0,\"#0d0887\"],[0.1111111111111111,\"#46039f\"],[0.2222222222222222,\"#7201a8\"],[0.3333333333333333,\"#9c179e\"],[0.4444444444444444,\"#bd3786\"],[0.5555555555555556,\"#d8576b\"],[0.6666666666666666,\"#ed7953\"],[0.7777777777777778,\"#fb9f3a\"],[0.8888888888888888,\"#fdca26\"],[1.0,\"#f0f921\"]],\"type\":\"heatmap\"}],\"histogram2dcontour\":[{\"colorbar\":{\"outlinewidth\":0,\"ticks\":\"\"},\"colorscale\":[[0.0,\"#0d0887\"],[0.1111111111111111,\"#46039f\"],[0.2222222222222222,\"#7201a8\"],[0.3333333333333333,\"#9c179e\"],[0.4444444444444444,\"#bd3786\"],[0.5555555555555556,\"#d8576b\"],[0.6666666666666666,\"#ed7953\"],[0.7777777777777778,\"#fb9f3a\"],[0.8888888888888888,\"#fdca26\"],[1.0,\"#f0f921\"]],\"type\":\"histogram2dcontour\"}],\"histogram2d\":[{\"colorbar\":{\"outlinewidth\":0,\"ticks\":\"\"},\"colorscale\":[[0.0,\"#0d0887\"],[0.1111111111111111,\"#46039f\"],[0.2222222222222222,\"#7201a8\"],[0.3333333333333333,\"#9c179e\"],[0.4444444444444444,\"#bd3786\"],[0.5555555555555556,\"#d8576b\"],[0.6666666666666666,\"#ed7953\"],[0.7777777777777778,\"#fb9f3a\"],[0.8888888888888888,\"#fdca26\"],[1.0,\"#f0f921\"]],\"type\":\"histogram2d\"}],\"histogram\":[{\"marker\":{\"pattern\":{\"fillmode\":\"overlay\",\"size\":10,\"solidity\":0.2}},\"type\":\"histogram\"}],\"mesh3d\":[{\"colorbar\":{\"outlinewidth\":0,\"ticks\":\"\"},\"type\":\"mesh3d\"}],\"parcoords\":[{\"line\":{\"colorbar\":{\"outlinewidth\":0,\"ticks\":\"\"}},\"type\":\"parcoords\"}],\"pie\":[{\"automargin\":true,\"type\":\"pie\"}],\"scatter3d\":[{\"line\":{\"colorbar\":{\"outlinewidth\":0,\"ticks\":\"\"}},\"marker\":{\"colorbar\":{\"outlinewidth\":0,\"ticks\":\"\"}},\"type\":\"scatter3d\"}],\"scattercarpet\":[{\"marker\":{\"colorbar\":{\"outlinewidth\":0,\"ticks\":\"\"}},\"type\":\"scattercarpet\"}],\"scattergeo\":[{\"marker\":{\"colorbar\":{\"outlinewidth\":0,\"ticks\":\"\"}},\"type\":\"scattergeo\"}],\"scattergl\":[{\"marker\":{\"line\":{\"color\":\"#283442\"}},\"type\":\"scattergl\"}],\"scattermapbox\":[{\"marker\":{\"colorbar\":{\"outlinewidth\":0,\"ticks\":\"\"}},\"type\":\"scattermapbox\"}],\"scatterpolargl\":[{\"marker\":{\"colorbar\":{\"outlinewidth\":0,\"ticks\":\"\"}},\"type\":\"scatterpolargl\"}],\"scatterpolar\":[{\"marker\":{\"colorbar\":{\"outlinewidth\":0,\"ticks\":\"\"}},\"type\":\"scatterpolar\"}],\"scatter\":[{\"marker\":{\"line\":{\"color\":\"#283442\"}},\"type\":\"scatter\"}],\"scatterternary\":[{\"marker\":{\"colorbar\":{\"outlinewidth\":0,\"ticks\":\"\"}},\"type\":\"scatterternary\"}],\"surface\":[{\"colorbar\":{\"outlinewidth\":0,\"ticks\":\"\"},\"colorscale\":[[0.0,\"#0d0887\"],[0.1111111111111111,\"#46039f\"],[0.2222222222222222,\"#7201a8\"],[0.3333333333333333,\"#9c179e\"],[0.4444444444444444,\"#bd3786\"],[0.5555555555555556,\"#d8576b\"],[0.6666666666666666,\"#ed7953\"],[0.7777777777777778,\"#fb9f3a\"],[0.8888888888888888,\"#fdca26\"],[1.0,\"#f0f921\"]],\"type\":\"surface\"}],\"table\":[{\"cells\":{\"fill\":{\"color\":\"#506784\"},\"line\":{\"color\":\"rgb(17,17,17)\"}},\"header\":{\"fill\":{\"color\":\"#2a3f5f\"},\"line\":{\"color\":\"rgb(17,17,17)\"}},\"type\":\"table\"}]},\"layout\":{\"annotationdefaults\":{\"arrowcolor\":\"#f2f5fa\",\"arrowhead\":0,\"arrowwidth\":1},\"autotypenumbers\":\"strict\",\"coloraxis\":{\"colorbar\":{\"outlinewidth\":0,\"ticks\":\"\"}},\"colorscale\":{\"diverging\":[[0,\"#8e0152\"],[0.1,\"#c51b7d\"],[0.2,\"#de77ae\"],[0.3,\"#f1b6da\"],[0.4,\"#fde0ef\"],[0.5,\"#f7f7f7\"],[0.6,\"#e6f5d0\"],[0.7,\"#b8e186\"],[0.8,\"#7fbc41\"],[0.9,\"#4d9221\"],[1,\"#276419\"]],\"sequential\":[[0.0,\"#0d0887\"],[0.1111111111111111,\"#46039f\"],[0.2222222222222222,\"#7201a8\"],[0.3333333333333333,\"#9c179e\"],[0.4444444444444444,\"#bd3786\"],[0.5555555555555556,\"#d8576b\"],[0.6666666666666666,\"#ed7953\"],[0.7777777777777778,\"#fb9f3a\"],[0.8888888888888888,\"#fdca26\"],[1.0,\"#f0f921\"]],\"sequentialminus\":[[0.0,\"#0d0887\"],[0.1111111111111111,\"#46039f\"],[0.2222222222222222,\"#7201a8\"],[0.3333333333333333,\"#9c179e\"],[0.4444444444444444,\"#bd3786\"],[0.5555555555555556,\"#d8576b\"],[0.6666666666666666,\"#ed7953\"],[0.7777777777777778,\"#fb9f3a\"],[0.8888888888888888,\"#fdca26\"],[1.0,\"#f0f921\"]]},\"colorway\":[\"#636efa\",\"#EF553B\",\"#00cc96\",\"#ab63fa\",\"#FFA15A\",\"#19d3f3\",\"#FF6692\",\"#B6E880\",\"#FF97FF\",\"#FECB52\"],\"font\":{\"color\":\"#f2f5fa\"},\"geo\":{\"bgcolor\":\"rgb(17,17,17)\",\"lakecolor\":\"rgb(17,17,17)\",\"landcolor\":\"rgb(17,17,17)\",\"showlakes\":true,\"showland\":true,\"subunitcolor\":\"#506784\"},\"hoverlabel\":{\"align\":\"left\"},\"hovermode\":\"closest\",\"mapbox\":{\"style\":\"dark\"},\"paper_bgcolor\":\"rgb(17,17,17)\",\"plot_bgcolor\":\"rgb(17,17,17)\",\"polar\":{\"angularaxis\":{\"gridcolor\":\"#506784\",\"linecolor\":\"#506784\",\"ticks\":\"\"},\"bgcolor\":\"rgb(17,17,17)\",\"radialaxis\":{\"gridcolor\":\"#506784\",\"linecolor\":\"#506784\",\"ticks\":\"\"}},\"scene\":{\"xaxis\":{\"backgroundcolor\":\"rgb(17,17,17)\",\"gridcolor\":\"#506784\",\"gridwidth\":2,\"linecolor\":\"#506784\",\"showbackground\":true,\"ticks\":\"\",\"zerolinecolor\":\"#C8D4E3\"},\"yaxis\":{\"backgroundcolor\":\"rgb(17,17,17)\",\"gridcolor\":\"#506784\",\"gridwidth\":2,\"linecolor\":\"#506784\",\"showbackground\":true,\"ticks\":\"\",\"zerolinecolor\":\"#C8D4E3\"},\"zaxis\":{\"backgroundcolor\":\"rgb(17,17,17)\",\"gridcolor\":\"#506784\",\"gridwidth\":2,\"linecolor\":\"#506784\",\"showbackground\":true,\"ticks\":\"\",\"zerolinecolor\":\"#C8D4E3\"}},\"shapedefaults\":{\"line\":{\"color\":\"#f2f5fa\"}},\"sliderdefaults\":{\"bgcolor\":\"#C8D4E3\",\"bordercolor\":\"rgb(17,17,17)\",\"borderwidth\":1,\"tickwidth\":0},\"ternary\":{\"aaxis\":{\"gridcolor\":\"#506784\",\"linecolor\":\"#506784\",\"ticks\":\"\"},\"baxis\":{\"gridcolor\":\"#506784\",\"linecolor\":\"#506784\",\"ticks\":\"\"},\"bgcolor\":\"rgb(17,17,17)\",\"caxis\":{\"gridcolor\":\"#506784\",\"linecolor\":\"#506784\",\"ticks\":\"\"}},\"title\":{\"x\":0.05},\"updatemenudefaults\":{\"bgcolor\":\"#506784\",\"borderwidth\":0},\"xaxis\":{\"automargin\":true,\"gridcolor\":\"#283442\",\"linecolor\":\"#506784\",\"ticks\":\"\",\"title\":{\"standoff\":15},\"zerolinecolor\":\"#283442\",\"zerolinewidth\":2},\"yaxis\":{\"automargin\":true,\"gridcolor\":\"#283442\",\"linecolor\":\"#506784\",\"ticks\":\"\",\"title\":{\"standoff\":15},\"zerolinecolor\":\"#283442\",\"zerolinewidth\":2}}},\"xaxis\":{\"anchor\":\"y\",\"domain\":[0.0,1.0],\"title\":{\"text\":\"Sentiment\"}},\"yaxis\":{\"anchor\":\"x\",\"domain\":[0.0,1.0],\"title\":{\"text\":\"Counts\"}},\"coloraxis\":{\"colorbar\":{\"title\":{\"text\":\"color\"}},\"colorscale\":[[0.0,\"#0d0887\"],[0.1111111111111111,\"#46039f\"],[0.2222222222222222,\"#7201a8\"],[0.3333333333333333,\"#9c179e\"],[0.4444444444444444,\"#bd3786\"],[0.5555555555555556,\"#d8576b\"],[0.6666666666666666,\"#ed7953\"],[0.7777777777777778,\"#fb9f3a\"],[0.8888888888888888,\"#fdca26\"],[1.0,\"#f0f921\"]]},\"legend\":{\"tracegroupgap\":0},\"title\":{\"text\":\"Sentiments Counts\"},\"barmode\":\"relative\"},                        {\"responsive\": true}                    ).then(function(){\n",
              "                            \n",
              "var gd = document.getElementById('928c00f0-c25d-48f0-9d1d-3839dab8e782');\n",
              "var x = new MutationObserver(function (mutations, observer) {{\n",
              "        var display = window.getComputedStyle(gd).display;\n",
              "        if (!display || display === 'none') {{\n",
              "            console.log([gd, 'removed!']);\n",
              "            Plotly.purge(gd);\n",
              "            observer.disconnect();\n",
              "        }}\n",
              "}});\n",
              "\n",
              "// Listen for the removal of the full notebook cells\n",
              "var notebookContainer = gd.closest('#notebook-container');\n",
              "if (notebookContainer) {{\n",
              "    x.observe(notebookContainer, {childList: true});\n",
              "}}\n",
              "\n",
              "// Listen for the clearing of the current output cell\n",
              "var outputEl = gd.closest('.output');\n",
              "if (outputEl) {{\n",
              "    x.observe(outputEl, {childList: true});\n",
              "}}\n",
              "\n",
              "                        })                };                            </script>        </div>\n",
              "</body>\n",
              "</html>"
            ]
          },
          "metadata": {}
        },
        {
          "output_type": "execute_result",
          "data": {
            "text/plain": [
              "'Sentiments Counts.html'"
            ],
            "application/vnd.google.colaboratory.intrinsic+json": {
              "type": "string"
            }
          },
          "metadata": {},
          "execution_count": 10
        }
      ],
      "source": [
        "# Plotting amount of negative and positive dataset\n",
        "sentiment_counts = train_df['sentiment'].value_counts()\n",
        "\n",
        "fig =px.bar(x= {0:'Negative', 1:'Positive'},\n",
        "            y= sentiment_counts.values,\n",
        "            color=sentiment_counts.index,\n",
        "            color_discrete_sequence =  px.colors.qualitative.Dark24,\n",
        "            title='<b>Sentiments Counts')\n",
        "\n",
        "fig.update_layout(title='Sentiments Counts',\n",
        "                  xaxis_title='Sentiment',\n",
        "                  yaxis_title='Counts',\n",
        "                  template='plotly_dark')\n",
        "\n",
        "fig.show()\n",
        "pyo.plot(fig, filename = 'Sentiments Counts.html', auto_open = False)"
      ]
    },
    {
      "cell_type": "markdown",
      "source": [
        "Text Cleaning"
      ],
      "metadata": {
        "id": "BCgzDF4ITKPR"
      }
    },
    {
      "cell_type": "code",
      "execution_count": 11,
      "metadata": {
        "id": "ZZomkNMZ1LCf"
      },
      "outputs": [],
      "source": [
        "def text_cleaning(text):\n",
        "    soup = BeautifulSoup(text, \"html.parser\")\n",
        "    text = re.sub(r'\\[[^]]*\\]', '', soup.get_text())\n",
        "    pattern = r\"[^a-zA-Z0-9\\s,']\"\n",
        "    text = re.sub(pattern, '', text)\n",
        "    return text"
      ]
    },
    {
      "cell_type": "code",
      "execution_count": 12,
      "metadata": {
        "colab": {
          "base_uri": "https://localhost:8080/"
        },
        "id": "ExCaPxqT1LCf",
        "outputId": "e40a7a2e-6e17-4d4b-af5b-9536cad8f4a7"
      },
      "outputs": [
        {
          "output_type": "stream",
          "name": "stderr",
          "text": [
            "<ipython-input-11-4a9c92faa406>:2: MarkupResemblesLocatorWarning:\n",
            "\n",
            "The input looks more like a filename than markup. You may want to open this file and pass the filehandle into Beautiful Soup.\n",
            "\n",
            "<ipython-input-11-4a9c92faa406>:2: MarkupResemblesLocatorWarning:\n",
            "\n",
            "The input looks more like a filename than markup. You may want to open this file and pass the filehandle into Beautiful Soup.\n",
            "\n"
          ]
        }
      ],
      "source": [
        "# Train dataset\n",
        "train_df['Cleaned_sentence'] = train_df['sentence'].apply(text_cleaning).tolist()\n",
        "# Test dataset\n",
        "test_df['Cleaned_sentence'] = test_df['sentence'].apply(text_cleaning)"
      ]
    },
    {
      "cell_type": "markdown",
      "source": [
        "Data kalimat-kalimat dan sentimennya dipisah."
      ],
      "metadata": {
        "id": "3-MpYZ3DVnSd"
      }
    },
    {
      "cell_type": "code",
      "execution_count": 16,
      "metadata": {
        "id": "2dKPoiwQ1LCg"
      },
      "outputs": [],
      "source": [
        "# Training data\n",
        "Reviews = train_df['Cleaned_sentence']\n",
        "Target = train_df['sentiment']\n",
        "\n",
        "# Test data\n",
        "test_reviews = test_df['Cleaned_sentence']\n",
        "test_targets = test_df['sentiment']"
      ]
    },
    {
      "cell_type": "markdown",
      "source": [
        "Seluruh data test kemudian dipisah menjadi test dan validasi"
      ],
      "metadata": {
        "id": "asWbR6GcVsLX"
      }
    },
    {
      "cell_type": "code",
      "execution_count": 17,
      "metadata": {
        "id": "uRo1u2K-1LCg"
      },
      "outputs": [],
      "source": [
        "x_val, x_test, y_val, y_test = train_test_split(test_reviews,\n",
        "                                                    test_targets,\n",
        "                                                    test_size=0.5,\n",
        "                                                    stratify = test_targets)"
      ]
    },
    {
      "cell_type": "markdown",
      "source": [
        "### 3. Tokenization dan Encoding\n",
        "Tokenization dan Encoding dilakukan menggunakan BERT tokenization.\n",
        "\n",
        "Tokenization dilakukan untuk mengubah rangkaian teks dataset menjadi bagian-bagian yang lebih kecil, yaitu token, untuk merepresentasikan teks dengan cara yang bermakna bagi mesin tanpa kehilangan konteksnya.\n",
        "\n",
        "Encoding dilakukan untuk mengubah teks yang bermakna menjadi representasi angka/vektor untuk menjaga konteks dan hubungan antara kata dan kalimat, sehingga mesin dapat memahami pola yang terkait dalam teks apa pun dan dapat melihat konteks kalimat."
      ],
      "metadata": {
        "id": "bT-8LuV2WBub"
      }
    },
    {
      "cell_type": "code",
      "execution_count": 18,
      "metadata": {
        "colab": {
          "base_uri": "https://localhost:8080/",
          "height": 173,
          "referenced_widgets": [
            "2b1d138f219d4d40803708f9bd47237e",
            "b4a3c85773e346e7a40512f276a3d640",
            "d442299213044f31b3de568ded2550e2",
            "67d0576440c24f858eebbad512455dba",
            "a7994c73582c46fcade228cb26f504c3",
            "80c76cd502d545ddaeb9ed26c8d1070d",
            "47dc053675dc4e1d991c5b3165976419",
            "ece5db3d5c044e9382e52eb0229a1a03",
            "8c7e55b0f67941aa877e0bb5813b535f",
            "28e6292284c242c7ac86b8faa2c1bf14",
            "9cfcb369dc13417ea5db4b6b2f7b87d8",
            "1136c32106d24cfaa135b7a1552bd48d",
            "8c2163784f214b83990b2353fa917407",
            "77267d9a2d894b0bac7fcd6f99d058be",
            "843639aaca044c1e9c4082a0437510f2",
            "d8bce9636cd44ae29612492b205abdb6",
            "69eacdb695554eccb6be20094802b04f",
            "6036ca8d84104c69be7b29293d101362",
            "f413f963e5cc481c9eb9f0b0d3821ac1",
            "8c5d9c71a39545e889882a195b61a14f",
            "791c6edbb10849e4ad99548e8ff411e2",
            "72279ac744be4ebea53eb431b07789f7",
            "4fd3db28c3874e2db44e2157b32d9c09",
            "d5d7dd68929445fca5952a257570bb82",
            "71c1cb0d30f44edd9302aa12b95c9970",
            "325573b870b8445e8c1fb25a9dad71ad",
            "f7e64832d0da4ea590c95f35991a0cc4",
            "a0d8a595fe7a4468becb4e5807e4573f",
            "8f328cd75e824a5f855382fb25b456ae",
            "44d7e2f4f53e4c2ebdcf3baecf5d07dc",
            "e882663f00294772bee10578406f9199",
            "12e2de3b6af646e1b87ba8ea73537e50",
            "7fa18146dcfb415bb0ff89a2f9dd5f2b",
            "0395930bc6d345648e16539c8582931f",
            "f7e046a1fb814104a40a067df92d975f",
            "49b6ef716d4348f19ccf4f161adf7589",
            "81633488393f4d018c5faa39837071af",
            "cc0ddfb52483425b98a1f21e09a470ea",
            "1072da90096d44d0ade3c05338f5a2d0",
            "6ddd31cf898248d5b0699fa897436813",
            "77ba70ed7ab64994b4258eae3b4ea232",
            "958a2c7239414e238909c88c8723de06",
            "ebb649538fa94db88cf479951e29c81b",
            "dffa71ee144742cea9e50ad62c872179"
          ]
        },
        "id": "OcdIuksB1LCg",
        "outputId": "c79e6e38-871d-4eef-d620-53aac3b9a7a3"
      },
      "outputs": [
        {
          "output_type": "display_data",
          "data": {
            "text/plain": [
              "tokenizer_config.json:   0%|          | 0.00/28.0 [00:00<?, ?B/s]"
            ],
            "application/vnd.jupyter.widget-view+json": {
              "version_major": 2,
              "version_minor": 0,
              "model_id": "2b1d138f219d4d40803708f9bd47237e"
            }
          },
          "metadata": {}
        },
        {
          "output_type": "display_data",
          "data": {
            "text/plain": [
              "vocab.txt:   0%|          | 0.00/232k [00:00<?, ?B/s]"
            ],
            "application/vnd.jupyter.widget-view+json": {
              "version_major": 2,
              "version_minor": 0,
              "model_id": "1136c32106d24cfaa135b7a1552bd48d"
            }
          },
          "metadata": {}
        },
        {
          "output_type": "display_data",
          "data": {
            "text/plain": [
              "tokenizer.json:   0%|          | 0.00/466k [00:00<?, ?B/s]"
            ],
            "application/vnd.jupyter.widget-view+json": {
              "version_major": 2,
              "version_minor": 0,
              "model_id": "4fd3db28c3874e2db44e2157b32d9c09"
            }
          },
          "metadata": {}
        },
        {
          "output_type": "display_data",
          "data": {
            "text/plain": [
              "config.json:   0%|          | 0.00/570 [00:00<?, ?B/s]"
            ],
            "application/vnd.jupyter.widget-view+json": {
              "version_major": 2,
              "version_minor": 0,
              "model_id": "0395930bc6d345648e16539c8582931f"
            }
          },
          "metadata": {}
        }
      ],
      "source": [
        "#Tokenize and encode the data using the BERT tokenizer\n",
        "tokenizer = BertTokenizer.from_pretrained('bert-base-uncased', do_lower_case=True)"
      ]
    },
    {
      "cell_type": "markdown",
      "source": [
        "BERT tokenization diterapkan dalam dataset train, test, dan validation"
      ],
      "metadata": {
        "id": "zmFMm7asW4hB"
      }
    },
    {
      "cell_type": "code",
      "execution_count": 19,
      "metadata": {
        "id": "Fgd_HcO31LCg"
      },
      "outputs": [],
      "source": [
        "max_len= 128\n",
        "# Tokenize and encode the sentences\n",
        "X_train_encoded = tokenizer.batch_encode_plus(Reviews.tolist(),\n",
        "                                              padding=True,\n",
        "                                              truncation=True,\n",
        "                                              max_length = max_len,\n",
        "                                              return_tensors='tf')\n",
        "\n",
        "X_val_encoded = tokenizer.batch_encode_plus(x_val.tolist(),\n",
        "                                              padding=True,\n",
        "                                              truncation=True,\n",
        "                                              max_length = max_len,\n",
        "                                              return_tensors='tf')\n",
        "\n",
        "X_test_encoded = tokenizer.batch_encode_plus(x_test.tolist(),\n",
        "                                              padding=True,\n",
        "                                              truncation=True,\n",
        "                                              max_length = max_len,\n",
        "                                              return_tensors='tf')"
      ]
    },
    {
      "cell_type": "code",
      "execution_count": 20,
      "metadata": {
        "colab": {
          "base_uri": "https://localhost:8080/"
        },
        "id": "sUAyzUkt1LCg",
        "outputId": "6f13343f-3f18-41ca-edd1-df1853e56768"
      },
      "outputs": [
        {
          "output_type": "stream",
          "name": "stdout",
          "text": [
            "Training Comments -->> Timeless musical gem, with Gene Kelly in top form, stylish direction by Vincente Minnelli, and wonderful musical numbers It is great entertainment from start to finish, one of those films that people watch with a smile and say they don't make 'em like they used to But they never did quite make them like this The climactic 25 minute musical sequence without any dialogue is among the most beautiful in film history Movie magic, clearly derived from the heart and soul of everyone involved A must see\n",
            "\n",
            "Input Ids -->>\n",
            " tf.Tensor(\n",
            "[  101 27768  3315 17070  1010  2007  4962  5163  1999  2327  2433  1010\n",
            "  2358  8516  4509  3257  2011  6320  2063  8117  9091  2072  1010  1998\n",
            "  6919  3315  3616  2009  2003  2307  4024  2013  2707  2000  3926  1010\n",
            "  2028  1997  2216  3152  2008  2111  3422  2007  1037  2868  1998  2360\n",
            "  2027  2123  1005  1056  2191  1005  7861  2066  2027  2109  2000  2021\n",
            "  2027  2196  2106  3243  2191  2068  2066  2023  1996 18856  9581 13306\n",
            "  2423  3371  3315  5537  2302  2151  7982  2003  2426  1996  2087  3376\n",
            "  1999  2143  2381  3185  3894  1010  4415  5173  2013  1996  2540  1998\n",
            "  3969  1997  3071  2920  1037  2442  2156   102     0     0     0     0\n",
            "     0     0     0     0     0     0     0     0     0     0     0     0\n",
            "     0     0     0     0     0     0     0     0], shape=(128,), dtype=int32)\n",
            "\n",
            "Decoded Ids -->>\n",
            " [CLS] timeless musical gem, with gene kelly in top form, stylish direction by vincente minnelli, and wonderful musical numbers it is great entertainment from start to finish, one of those films that people watch with a smile and say they don't make'em like they used to but they never did quite make them like this the climactic 25 minute musical sequence without any dialogue is among the most beautiful in film history movie magic, clearly derived from the heart and soul of everyone involved a must see [SEP] [PAD] [PAD] [PAD] [PAD] [PAD] [PAD] [PAD] [PAD] [PAD] [PAD] [PAD] [PAD] [PAD] [PAD] [PAD] [PAD] [PAD] [PAD] [PAD] [PAD] [PAD] [PAD] [PAD] [PAD]\n",
            "\n",
            "Attention Mask -->>\n",
            " tf.Tensor(\n",
            "[1 1 1 1 1 1 1 1 1 1 1 1 1 1 1 1 1 1 1 1 1 1 1 1 1 1 1 1 1 1 1 1 1 1 1 1 1\n",
            " 1 1 1 1 1 1 1 1 1 1 1 1 1 1 1 1 1 1 1 1 1 1 1 1 1 1 1 1 1 1 1 1 1 1 1 1 1\n",
            " 1 1 1 1 1 1 1 1 1 1 1 1 1 1 1 1 1 1 1 1 1 1 1 1 1 1 1 1 1 1 0 0 0 0 0 0 0\n",
            " 0 0 0 0 0 0 0 0 0 0 0 0 0 0 0 0 0], shape=(128,), dtype=int32)\n",
            "\n",
            "Labels -->> 1\n"
          ]
        }
      ],
      "source": [
        "k = 0\n",
        "print('Training Comments -->>',Reviews[k])\n",
        "print('\\nInput Ids -->>\\n',X_train_encoded['input_ids'][k])\n",
        "print('\\nDecoded Ids -->>\\n',tokenizer.decode(X_train_encoded['input_ids'][k]))\n",
        "print('\\nAttention Mask -->>\\n',X_train_encoded['attention_mask'][k])\n",
        "print('\\nLabels -->>',Target[k])"
      ]
    },
    {
      "cell_type": "markdown",
      "source": [
        "BERT tokenizer menambahkan token-token khusus seperti [CLS], [SEP], dan [MASK] ke sequencenya. Token ini memiliki arti:\n",
        "1. [CLS] digunakan untuk klasifikasi dan untuk merepresentasikan seluruh input dalam kasus analisis sentimen\n",
        "2. [SEP] digunakan sebagai pemisah yaitu untuk menandai batas antara kalimat atau segmen yang berbeda\n",
        "3. [MASK] digunakan untuk masking, seperti menyembunyikan beberapa token dari model selama pra-pelatihan.\n",
        "\n",
        "BERT tokenizer memberikan output sebagai berikut:\n",
        "\n",
        "1. input_ids: pengidentifikasi numerik dari token vocabulary\n",
        "\n",
        "2. token_type_ids: mengidentifikasi segmen atau kalimat mana yang merupakan asal dari setiap token.\n",
        "\n",
        "3. attention_mask: tanda yang memberi tahu model mengenai token mana yang harus diperhatikan dan mana yang harus diabaikan."
      ],
      "metadata": {
        "id": "giEMl3TjYshY"
      }
    },
    {
      "cell_type": "markdown",
      "source": [
        "### 4. Membangun Model\n",
        "Model yang digunakan adalah BERT yang sudah dipretrain."
      ],
      "metadata": {
        "id": "1J1FHeg1XVcz"
      }
    },
    {
      "cell_type": "code",
      "execution_count": 21,
      "metadata": {
        "colab": {
          "base_uri": "https://localhost:8080/",
          "height": 166,
          "referenced_widgets": [
            "9da4a056583047cf9534348855e5f15d",
            "63973c22f3424158b39c5fcd5b70d7c0",
            "40e57771b4cb474295bb4364a0bdd6d0",
            "6d8ac79ba8ab49b3aba383c2377f2a17",
            "fb1d510d9561438c9ab15e7a4aee8588",
            "e4afff33f0994b7aa9cdfaceb82a4a69",
            "19b0cb30923543c890e4cf9ab9f4d48c",
            "ef53e622c38044bf90917ee47beefd17",
            "8a54824ebee04f9eb203144ea2b2bc3d",
            "186c9db4f10f44b7a406a107386c7ae3",
            "57bdbeaf01da4fdb9a740e1e5f58c6d6"
          ]
        },
        "id": "EqFv4UAj1LCg",
        "outputId": "1fdefbb7-a408-4f3f-ad79-ac3af02723b1"
      },
      "outputs": [
        {
          "output_type": "display_data",
          "data": {
            "text/plain": [
              "model.safetensors:   0%|          | 0.00/440M [00:00<?, ?B/s]"
            ],
            "application/vnd.jupyter.widget-view+json": {
              "version_major": 2,
              "version_minor": 0,
              "model_id": "9da4a056583047cf9534348855e5f15d"
            }
          },
          "metadata": {}
        },
        {
          "output_type": "stream",
          "name": "stderr",
          "text": [
            "All PyTorch model weights were used when initializing TFBertForSequenceClassification.\n",
            "\n",
            "Some weights or buffers of the TF 2.0 model TFBertForSequenceClassification were not initialized from the PyTorch model and are newly initialized: ['classifier.weight', 'classifier.bias']\n",
            "You should probably TRAIN this model on a down-stream task to be able to use it for predictions and inference.\n"
          ]
        }
      ],
      "source": [
        "# Intialize model\n",
        "model = TFBertForSequenceClassification.from_pretrained('bert-base-uncased', num_labels=2)"
      ]
    },
    {
      "cell_type": "markdown",
      "source": [
        "Model kemudian dicompile"
      ],
      "metadata": {
        "id": "myLYVaFcZs8B"
      }
    },
    {
      "cell_type": "code",
      "execution_count": 22,
      "metadata": {
        "id": "tnF0H2uU1LCg"
      },
      "outputs": [],
      "source": [
        "# Compile the model with optimizer, loss function, and metrics\n",
        "optimizer = tf.keras.optimizers.Adam(learning_rate=2e-5)\n",
        "loss = tf.keras.losses.SparseCategoricalCrossentropy(from_logits=True)\n",
        "metric = tf.keras.metrics.SparseCategoricalAccuracy('accuracy')\n",
        "model.compile(optimizer=optimizer, loss=loss, metrics=[metric])"
      ]
    },
    {
      "cell_type": "markdown",
      "source": [
        "Latih modelnya"
      ],
      "metadata": {
        "id": "En6rCa5MXjM0"
      }
    },
    {
      "cell_type": "code",
      "execution_count": 23,
      "metadata": {
        "colab": {
          "base_uri": "https://localhost:8080/"
        },
        "id": "wtlEsFDJ1LCg",
        "outputId": "dc37ebf7-c4fe-4882-d417-7cd9a38f1117"
      },
      "outputs": [
        {
          "output_type": "stream",
          "name": "stdout",
          "text": [
            "Epoch 1/3\n",
            "782/782 [==============================] - 817s 983ms/step - loss: 0.3435 - accuracy: 0.8442 - val_loss: 0.2729 - val_accuracy: 0.8817\n",
            "Epoch 2/3\n",
            "782/782 [==============================] - 766s 979ms/step - loss: 0.2046 - accuracy: 0.9211 - val_loss: 0.2893 - val_accuracy: 0.8806\n",
            "Epoch 3/3\n",
            "782/782 [==============================] - 798s 1s/step - loss: 0.1132 - accuracy: 0.9604 - val_loss: 0.3493 - val_accuracy: 0.8805\n"
          ]
        }
      ],
      "source": [
        "# Model training\n",
        "history = model.fit(\n",
        "    [X_train_encoded['input_ids'], X_train_encoded['token_type_ids'], X_train_encoded['attention_mask']],\n",
        "    Target,\n",
        "    validation_data=(\n",
        "      [X_val_encoded['input_ids'], X_val_encoded['token_type_ids'], X_val_encoded['attention_mask']],y_val),\n",
        "    batch_size=32,\n",
        "    epochs=3\n",
        ")"
      ]
    },
    {
      "cell_type": "markdown",
      "source": [
        "### 5. Evaluasi Model\n",
        "Model yang sudah dibangun dan dilatih dievaluasi ketepatan akurasinya."
      ],
      "metadata": {
        "id": "l0hxXE4hXsrU"
      }
    },
    {
      "cell_type": "code",
      "execution_count": 24,
      "metadata": {
        "colab": {
          "base_uri": "https://localhost:8080/"
        },
        "id": "LDo-Qa-r1LCh",
        "outputId": "085e4e4a-f307-4c17-9414-c8a83e06520e"
      },
      "outputs": [
        {
          "output_type": "stream",
          "name": "stdout",
          "text": [
            "391/391 [==============================] - 111s 284ms/step - loss: 0.3451 - accuracy: 0.8845\n",
            "Test loss: 0.3450615108013153, Test accuracy: 0.8844799995422363\n"
          ]
        }
      ],
      "source": [
        "#Evaluate the model on the test data\n",
        "test_loss, test_accuracy = model.evaluate(\n",
        "    [X_test_encoded['input_ids'], X_test_encoded['token_type_ids'], X_test_encoded['attention_mask']],\n",
        "    y_test\n",
        ")\n",
        "print(f'Test loss: {test_loss}, Test accuracy: {test_accuracy}')"
      ]
    },
    {
      "cell_type": "markdown",
      "source": [
        "Model dan tokenizer yang sudah dilatih disimpan sebagai checkpoint."
      ],
      "metadata": {
        "id": "2OdJFudpX-aI"
      }
    },
    {
      "cell_type": "code",
      "execution_count": 25,
      "metadata": {
        "id": "droeWaWI1LCh"
      },
      "outputs": [],
      "source": [
        "path = 'saved'\n",
        "\n",
        "# Save tokenizer and model\n",
        "tokenizer.save_pretrained(path +'/Tokenizer')\n",
        "model.save_pretrained(path +'/Model')"
      ]
    },
    {
      "cell_type": "markdown",
      "source": [
        "Model dan tokenizer yang sudah disimpan dapat langsung diload untuk dipakai"
      ],
      "metadata": {
        "id": "zvyteOCnYSm0"
      }
    },
    {
      "cell_type": "code",
      "execution_count": 36,
      "metadata": {
        "colab": {
          "base_uri": "https://localhost:8080/"
        },
        "id": "kmmhBRRq1LCh",
        "outputId": "6efd5795-7ef8-401c-ec87-071ab0286fa9"
      },
      "outputs": [
        {
          "output_type": "stream",
          "name": "stderr",
          "text": [
            "Some layers from the model checkpoint at saved/Model were not used when initializing TFBertForSequenceClassification: ['dropout_37']\n",
            "- This IS expected if you are initializing TFBertForSequenceClassification from the checkpoint of a model trained on another task or with another architecture (e.g. initializing a BertForSequenceClassification model from a BertForPreTraining model).\n",
            "- This IS NOT expected if you are initializing TFBertForSequenceClassification from the checkpoint of a model that you expect to be exactly identical (initializing a BertForSequenceClassification model from a BertForSequenceClassification model).\n",
            "All the layers of TFBertForSequenceClassification were initialized from the model checkpoint at saved/Model.\n",
            "If your task is similar to the task the model of the checkpoint was trained on, you can already use TFBertForSequenceClassification for predictions without further training.\n"
          ]
        }
      ],
      "source": [
        "# Load tokenizer and model\n",
        "bert_tokenizer = BertTokenizer.from_pretrained(path +'/Tokenizer')\n",
        "bert_model = TFBertForSequenceClassification.from_pretrained(path +'/Model')"
      ]
    },
    {
      "cell_type": "code",
      "execution_count": 37,
      "metadata": {
        "colab": {
          "base_uri": "https://localhost:8080/"
        },
        "id": "DTI_rFKS1LCh",
        "outputId": "da143a42-6f62-4a0f-e3e0-dc333f6ddff6"
      },
      "outputs": [
        {
          "output_type": "stream",
          "name": "stdout",
          "text": [
            "391/391 [==============================] - 115s 284ms/step\n",
            "Predicted Label : ['Negative', 'Negative', 'Negative', 'Negative', 'positive', 'Negative', 'positive', 'positive', 'Negative', 'Negative']\n",
            "Actual Label    : ['Negative', 'Negative', 'Negative', 'Negative', 'positive', 'Negative', 'positive', 'positive', 'positive', 'Negative']\n"
          ]
        }
      ],
      "source": [
        "pred = bert_model.predict(\n",
        "    [X_test_encoded['input_ids'], X_test_encoded['token_type_ids'], X_test_encoded['attention_mask']])\n",
        "\n",
        "# pred is of type TFSequenceClassifierOutput\n",
        "logits = pred.logits\n",
        "\n",
        "# Use argmax along the appropriate axis to get the predicted labels\n",
        "pred_labels = tf.argmax(logits, axis=1)\n",
        "\n",
        "# Convert the predicted labels to a NumPy array\n",
        "pred_labels = pred_labels.numpy()\n",
        "\n",
        "label = {\n",
        "    1: 'positive',\n",
        "    0: 'Negative'\n",
        "}\n",
        "\n",
        "# Map the predicted labels to their corresponding strings using the label dictionary\n",
        "pred_labels = [label[i] for i in pred_labels]\n",
        "Actual = [label[i] for i in y_test]\n",
        "\n",
        "print('Predicted Label :', pred_labels[:10])\n",
        "print('Actual Label    :', Actual[:10])"
      ]
    },
    {
      "cell_type": "code",
      "execution_count": 38,
      "metadata": {
        "colab": {
          "base_uri": "https://localhost:8080/"
        },
        "id": "nibnpXg11LCh",
        "outputId": "f0a1f3fa-88df-4a06-cba7-8c6ca7fb4ce7"
      },
      "outputs": [
        {
          "output_type": "stream",
          "name": "stdout",
          "text": [
            "Result: \n",
            "               precision    recall  f1-score   support\n",
            "\n",
            "    Negative       0.87      0.90      0.89      6250\n",
            "    positive       0.90      0.87      0.88      6250\n",
            "\n",
            "    accuracy                           0.88     12500\n",
            "   macro avg       0.88      0.88      0.88     12500\n",
            "weighted avg       0.88      0.88      0.88     12500\n",
            "\n"
          ]
        }
      ],
      "source": [
        "print(\"Result: \\n\", classification_report(Actual, pred_labels))"
      ]
    },
    {
      "cell_type": "markdown",
      "source": [
        "1. Precision adalah ukuran berapa banyak kasus positif yang diprediksi dengan benar dari seluruh kejadian yang diprediksi positif. \"Dari seluruh kejadian yang diprediksi positif oleh model, berapa banyak yang benar-benar positif?\" Rumusnya adalah $\\frac{\\text{True Positives}}{\\text{True Positives + False Positives}}$\n",
        "\n",
        "2. Recall adalah ukuran berapa banyak kasus positif yang diprediksi dengan tepat dari semua kasus positif aktual. \"Dari semua kejadian positif aktual, berapa banyak yang diprediksi positif oleh model?\" Rumusnya adalah $\\frac{\\text{True Positives}}{\\text{True Positives + False Negatives}}$\n",
        "\n",
        "3. F1 score adalah rata-rata antara precision dan recall. Nilainya berkisar antara 0 dan 1, dengan 1 adalah skor F1 terbaik, yang menunjukkan precision dan recall yang sempurna. Rumusnya adalah $2 \\times\\frac{\\text{Precision } \\times \\text{ Recall}}{\\text{Precision } + \\text{ Recall}}$\n",
        "\n",
        "4. Macro average menghitung metrik secara independen untuk setiap kelas dan kemudian mengambil rata-rata di semua kelas. Misalnya, precision dari macro average akan menghitung precision untuk setiap kelas dan kemudian menghitung rata-rata nilai tersebut.\n",
        "\n",
        "5. Weighted average mirip dengan macro average, namun memperhitungkan jumlah instance di setiap kelas. Hal ini dibobotkan berdasarkan jumlah sampel pada setiap kelas. Hal ini sangat berguna ketika menangani kumpulan data yang tidak seimbang, di mana beberapa kelas memiliki lebih banyak instance dibandingkan kelas lainnya."
      ],
      "metadata": {
        "id": "u-OVVgjtfp1M"
      }
    },
    {
      "cell_type": "markdown",
      "source": [
        "### 6. Prediksi dari Input User"
      ],
      "metadata": {
        "id": "oVrtpfKUenDP"
      }
    },
    {
      "cell_type": "code",
      "execution_count": 47,
      "metadata": {
        "id": "A4qjAJa51LCh"
      },
      "outputs": [],
      "source": [
        "def get_sentiment(Review, Tokenizer=bert_tokenizer, Model=bert_model):\n",
        "    # Convert review to list\n",
        "    if not isinstance(Review, list):\n",
        "        Review = [Review]\n",
        "\n",
        "    Input_ids, Token_type_ids, Attention_mask = Tokenizer.batch_encode_plus(Review,\n",
        "                                                                             padding=True,\n",
        "                                                                             truncation=True,\n",
        "                                                                             max_length=128,\n",
        "                                                                             return_tensors='tf').values()\n",
        "    prediction = Model.predict([Input_ids, Token_type_ids, Attention_mask])\n",
        "\n",
        "    pred_labels = tf.argmax(prediction.logits, axis=1)\n",
        "\n",
        "    # Convert the TensorFlow tensor to a NumPy array and then to a list to get the predicted sentiment labels\n",
        "    pred_labels = [label[i] for i in pred_labels.numpy().tolist()]\n",
        "    return pred_labels"
      ]
    },
    {
      "cell_type": "code",
      "execution_count": 40,
      "metadata": {
        "colab": {
          "base_uri": "https://localhost:8080/"
        },
        "id": "avLooU9M1LCh",
        "outputId": "1bcac575-e32f-42e1-f93b-23e22bfdc947"
      },
      "outputs": [
        {
          "output_type": "stream",
          "name": "stdout",
          "text": [
            "1/1 [==============================] - 0s 61ms/step\n"
          ]
        },
        {
          "output_type": "execute_result",
          "data": {
            "text/plain": [
              "['positive']"
            ]
          },
          "metadata": {},
          "execution_count": 40
        }
      ],
      "source": [
        "review_1 ='''This is the best written show I have watched with focus on every single character. The writers have done exceptional job in writing the story and at times goosebumps inducing scenarios which relate to one another in complete unexpected way.\n",
        "One more best part in the story was that the seriousness and dark mode never lasted long and when it did, it faded away with the best climax I have watched. The ending of the story is beautifully and leisurely written which just warms your heart.\n",
        "Each and every actor and their characters are awesome as they are done justice on till the end.\n",
        "And how could I not appreciate the lead female, AJI 3(robot), or Jo Ji A, is beautiful both as human and as the Robot from the start.\n",
        "It's a heart warming series from start till the end which will make you laugh and cry.'''\n",
        "get_sentiment(review_1)"
      ]
    },
    {
      "cell_type": "code",
      "source": [
        "review_2 = '''Another superb offering!!! From watching mainly English period dramas most of my life, in mid life I've stumbled onto k dramas thanks to a recommendation from, of all people, Welsh &Irish friends, which I suppose goes to show their well deserved global out reach!! i love how gentle and relaxing they are.. This story was something very out of the ordinary.. Also the actors weren't impossibly good looking, the locations, architecture,  costumes things I'm normally so attracted to, were missing: most of the action takes place at night...yet I was so drawn to it & found it very endearing..\n",
        "I watch with subtitles and the Korean audio and find myself turning up the volume and realising I can't actually understand most of what's been said.. But they really do speak to our hearts. In a world of Western dramas which have lost their way and are now too full of potty mouthed unsavoury characters, too much sex, drugs & drink, no wonder I find myself watching k dramas whenever the TV is turned on..Thank you Netflix for exposing us all to different cultures and providing such high quality entertainment!'''\n",
        "\n",
        "get_sentiment(review_2)"
      ],
      "metadata": {
        "colab": {
          "base_uri": "https://localhost:8080/"
        },
        "id": "wLZWj_gbDDSR",
        "outputId": "46a6b466-617a-4a9d-8998-f56b3bff3966"
      },
      "execution_count": 41,
      "outputs": [
        {
          "output_type": "stream",
          "name": "stdout",
          "text": [
            "1/1 [==============================] - 0s 61ms/step\n"
          ]
        },
        {
          "output_type": "execute_result",
          "data": {
            "text/plain": [
              "['positive']"
            ]
          },
          "metadata": {},
          "execution_count": 41
        }
      ]
    },
    {
      "cell_type": "code",
      "source": [
        "review_3 = '''This movie is not good at all. It has no suspense, and the story is so boring'''\n",
        "get_sentiment(review_3)"
      ],
      "metadata": {
        "colab": {
          "base_uri": "https://localhost:8080/"
        },
        "id": "NuV6KURUDOr9",
        "outputId": "d4dfcdb9-0f9f-434e-ce12-801259a4f647"
      },
      "execution_count": 42,
      "outputs": [
        {
          "output_type": "stream",
          "name": "stdout",
          "text": [
            "1/1 [==============================] - 3s 3s/step\n"
          ]
        },
        {
          "output_type": "execute_result",
          "data": {
            "text/plain": [
              "['Negative']"
            ]
          },
          "metadata": {},
          "execution_count": 42
        }
      ]
    },
    {
      "cell_type": "code",
      "source": [
        "review_4 = '''Half of the story through the end became boring🙄.\n",
        "I can’t find the climax on the story that should keep the viewers wanting to watch the next episode.\n",
        "I’m disappointed ☹️'''\n",
        "get_sentiment(review_4)"
      ],
      "metadata": {
        "colab": {
          "base_uri": "https://localhost:8080/"
        },
        "id": "JpMy6OfBeH58",
        "outputId": "da26a550-8fbb-4194-eadb-038b5ff287ec"
      },
      "execution_count": 45,
      "outputs": [
        {
          "output_type": "stream",
          "name": "stdout",
          "text": [
            "1/1 [==============================] - 0s 67ms/step\n"
          ]
        },
        {
          "output_type": "execute_result",
          "data": {
            "text/plain": [
              "['Negative']"
            ]
          },
          "metadata": {},
          "execution_count": 45
        }
      ]
    },
    {
      "cell_type": "code",
      "source": [
        "review_5 = '''The male lead was toxic as hell the female lead was excellent\n",
        "there is no balance all the fight in thier relationship always happen as the female lead\n",
        "gets to endure the selfishness and huge ego of the male lead'''\n",
        "get_sentiment(review_5)"
      ],
      "metadata": {
        "colab": {
          "base_uri": "https://localhost:8080/"
        },
        "id": "sghR1TAxeIH1",
        "outputId": "dd99dcc5-d111-47ae-f73d-5adc09a22171"
      },
      "execution_count": 46,
      "outputs": [
        {
          "output_type": "stream",
          "name": "stdout",
          "text": [
            "1/1 [==============================] - 0s 77ms/step\n"
          ]
        },
        {
          "output_type": "execute_result",
          "data": {
            "text/plain": [
              "['Negative']"
            ]
          },
          "metadata": {},
          "execution_count": 46
        }
      ]
    },
    {
      "cell_type": "markdown",
      "source": [
        "### 7. Kesimpulan\n",
        "Model BERT yang digunakan memiliki akurasi dan kinerja yang sangat baik dalam melakukan analisa sentimen review film. Model ini memiliki kemampuan untuk menangani ekspresi linguistik yang kompleks dan bervariasi. Precision, Recall, dan Accuracy dari model ini semuanya berada di sekitar 90%.\n"
      ],
      "metadata": {
        "id": "qN-CeCfzeuij"
      }
    }
  ],
  "metadata": {
    "kernelspec": {
      "display_name": "Python 3",
      "name": "python3"
    },
    "language_info": {
      "codemirror_mode": {
        "name": "ipython",
        "version": 3
      },
      "file_extension": ".py",
      "mimetype": "text/x-python",
      "name": "python",
      "nbconvert_exporter": "python",
      "pygments_lexer": "ipython3",
      "version": "3.11.4"
    },
    "colab": {
      "provenance": [],
      "gpuType": "T4"
    },
    "accelerator": "GPU",
    "widgets": {
      "application/vnd.jupyter.widget-state+json": {
        "2b1d138f219d4d40803708f9bd47237e": {
          "model_module": "@jupyter-widgets/controls",
          "model_name": "HBoxModel",
          "model_module_version": "1.5.0",
          "state": {
            "_dom_classes": [],
            "_model_module": "@jupyter-widgets/controls",
            "_model_module_version": "1.5.0",
            "_model_name": "HBoxModel",
            "_view_count": null,
            "_view_module": "@jupyter-widgets/controls",
            "_view_module_version": "1.5.0",
            "_view_name": "HBoxView",
            "box_style": "",
            "children": [
              "IPY_MODEL_b4a3c85773e346e7a40512f276a3d640",
              "IPY_MODEL_d442299213044f31b3de568ded2550e2",
              "IPY_MODEL_67d0576440c24f858eebbad512455dba"
            ],
            "layout": "IPY_MODEL_a7994c73582c46fcade228cb26f504c3"
          }
        },
        "b4a3c85773e346e7a40512f276a3d640": {
          "model_module": "@jupyter-widgets/controls",
          "model_name": "HTMLModel",
          "model_module_version": "1.5.0",
          "state": {
            "_dom_classes": [],
            "_model_module": "@jupyter-widgets/controls",
            "_model_module_version": "1.5.0",
            "_model_name": "HTMLModel",
            "_view_count": null,
            "_view_module": "@jupyter-widgets/controls",
            "_view_module_version": "1.5.0",
            "_view_name": "HTMLView",
            "description": "",
            "description_tooltip": null,
            "layout": "IPY_MODEL_80c76cd502d545ddaeb9ed26c8d1070d",
            "placeholder": "​",
            "style": "IPY_MODEL_47dc053675dc4e1d991c5b3165976419",
            "value": "tokenizer_config.json: 100%"
          }
        },
        "d442299213044f31b3de568ded2550e2": {
          "model_module": "@jupyter-widgets/controls",
          "model_name": "FloatProgressModel",
          "model_module_version": "1.5.0",
          "state": {
            "_dom_classes": [],
            "_model_module": "@jupyter-widgets/controls",
            "_model_module_version": "1.5.0",
            "_model_name": "FloatProgressModel",
            "_view_count": null,
            "_view_module": "@jupyter-widgets/controls",
            "_view_module_version": "1.5.0",
            "_view_name": "ProgressView",
            "bar_style": "success",
            "description": "",
            "description_tooltip": null,
            "layout": "IPY_MODEL_ece5db3d5c044e9382e52eb0229a1a03",
            "max": 28,
            "min": 0,
            "orientation": "horizontal",
            "style": "IPY_MODEL_8c7e55b0f67941aa877e0bb5813b535f",
            "value": 28
          }
        },
        "67d0576440c24f858eebbad512455dba": {
          "model_module": "@jupyter-widgets/controls",
          "model_name": "HTMLModel",
          "model_module_version": "1.5.0",
          "state": {
            "_dom_classes": [],
            "_model_module": "@jupyter-widgets/controls",
            "_model_module_version": "1.5.0",
            "_model_name": "HTMLModel",
            "_view_count": null,
            "_view_module": "@jupyter-widgets/controls",
            "_view_module_version": "1.5.0",
            "_view_name": "HTMLView",
            "description": "",
            "description_tooltip": null,
            "layout": "IPY_MODEL_28e6292284c242c7ac86b8faa2c1bf14",
            "placeholder": "​",
            "style": "IPY_MODEL_9cfcb369dc13417ea5db4b6b2f7b87d8",
            "value": " 28.0/28.0 [00:00&lt;00:00, 1.55kB/s]"
          }
        },
        "a7994c73582c46fcade228cb26f504c3": {
          "model_module": "@jupyter-widgets/base",
          "model_name": "LayoutModel",
          "model_module_version": "1.2.0",
          "state": {
            "_model_module": "@jupyter-widgets/base",
            "_model_module_version": "1.2.0",
            "_model_name": "LayoutModel",
            "_view_count": null,
            "_view_module": "@jupyter-widgets/base",
            "_view_module_version": "1.2.0",
            "_view_name": "LayoutView",
            "align_content": null,
            "align_items": null,
            "align_self": null,
            "border": null,
            "bottom": null,
            "display": null,
            "flex": null,
            "flex_flow": null,
            "grid_area": null,
            "grid_auto_columns": null,
            "grid_auto_flow": null,
            "grid_auto_rows": null,
            "grid_column": null,
            "grid_gap": null,
            "grid_row": null,
            "grid_template_areas": null,
            "grid_template_columns": null,
            "grid_template_rows": null,
            "height": null,
            "justify_content": null,
            "justify_items": null,
            "left": null,
            "margin": null,
            "max_height": null,
            "max_width": null,
            "min_height": null,
            "min_width": null,
            "object_fit": null,
            "object_position": null,
            "order": null,
            "overflow": null,
            "overflow_x": null,
            "overflow_y": null,
            "padding": null,
            "right": null,
            "top": null,
            "visibility": null,
            "width": null
          }
        },
        "80c76cd502d545ddaeb9ed26c8d1070d": {
          "model_module": "@jupyter-widgets/base",
          "model_name": "LayoutModel",
          "model_module_version": "1.2.0",
          "state": {
            "_model_module": "@jupyter-widgets/base",
            "_model_module_version": "1.2.0",
            "_model_name": "LayoutModel",
            "_view_count": null,
            "_view_module": "@jupyter-widgets/base",
            "_view_module_version": "1.2.0",
            "_view_name": "LayoutView",
            "align_content": null,
            "align_items": null,
            "align_self": null,
            "border": null,
            "bottom": null,
            "display": null,
            "flex": null,
            "flex_flow": null,
            "grid_area": null,
            "grid_auto_columns": null,
            "grid_auto_flow": null,
            "grid_auto_rows": null,
            "grid_column": null,
            "grid_gap": null,
            "grid_row": null,
            "grid_template_areas": null,
            "grid_template_columns": null,
            "grid_template_rows": null,
            "height": null,
            "justify_content": null,
            "justify_items": null,
            "left": null,
            "margin": null,
            "max_height": null,
            "max_width": null,
            "min_height": null,
            "min_width": null,
            "object_fit": null,
            "object_position": null,
            "order": null,
            "overflow": null,
            "overflow_x": null,
            "overflow_y": null,
            "padding": null,
            "right": null,
            "top": null,
            "visibility": null,
            "width": null
          }
        },
        "47dc053675dc4e1d991c5b3165976419": {
          "model_module": "@jupyter-widgets/controls",
          "model_name": "DescriptionStyleModel",
          "model_module_version": "1.5.0",
          "state": {
            "_model_module": "@jupyter-widgets/controls",
            "_model_module_version": "1.5.0",
            "_model_name": "DescriptionStyleModel",
            "_view_count": null,
            "_view_module": "@jupyter-widgets/base",
            "_view_module_version": "1.2.0",
            "_view_name": "StyleView",
            "description_width": ""
          }
        },
        "ece5db3d5c044e9382e52eb0229a1a03": {
          "model_module": "@jupyter-widgets/base",
          "model_name": "LayoutModel",
          "model_module_version": "1.2.0",
          "state": {
            "_model_module": "@jupyter-widgets/base",
            "_model_module_version": "1.2.0",
            "_model_name": "LayoutModel",
            "_view_count": null,
            "_view_module": "@jupyter-widgets/base",
            "_view_module_version": "1.2.0",
            "_view_name": "LayoutView",
            "align_content": null,
            "align_items": null,
            "align_self": null,
            "border": null,
            "bottom": null,
            "display": null,
            "flex": null,
            "flex_flow": null,
            "grid_area": null,
            "grid_auto_columns": null,
            "grid_auto_flow": null,
            "grid_auto_rows": null,
            "grid_column": null,
            "grid_gap": null,
            "grid_row": null,
            "grid_template_areas": null,
            "grid_template_columns": null,
            "grid_template_rows": null,
            "height": null,
            "justify_content": null,
            "justify_items": null,
            "left": null,
            "margin": null,
            "max_height": null,
            "max_width": null,
            "min_height": null,
            "min_width": null,
            "object_fit": null,
            "object_position": null,
            "order": null,
            "overflow": null,
            "overflow_x": null,
            "overflow_y": null,
            "padding": null,
            "right": null,
            "top": null,
            "visibility": null,
            "width": null
          }
        },
        "8c7e55b0f67941aa877e0bb5813b535f": {
          "model_module": "@jupyter-widgets/controls",
          "model_name": "ProgressStyleModel",
          "model_module_version": "1.5.0",
          "state": {
            "_model_module": "@jupyter-widgets/controls",
            "_model_module_version": "1.5.0",
            "_model_name": "ProgressStyleModel",
            "_view_count": null,
            "_view_module": "@jupyter-widgets/base",
            "_view_module_version": "1.2.0",
            "_view_name": "StyleView",
            "bar_color": null,
            "description_width": ""
          }
        },
        "28e6292284c242c7ac86b8faa2c1bf14": {
          "model_module": "@jupyter-widgets/base",
          "model_name": "LayoutModel",
          "model_module_version": "1.2.0",
          "state": {
            "_model_module": "@jupyter-widgets/base",
            "_model_module_version": "1.2.0",
            "_model_name": "LayoutModel",
            "_view_count": null,
            "_view_module": "@jupyter-widgets/base",
            "_view_module_version": "1.2.0",
            "_view_name": "LayoutView",
            "align_content": null,
            "align_items": null,
            "align_self": null,
            "border": null,
            "bottom": null,
            "display": null,
            "flex": null,
            "flex_flow": null,
            "grid_area": null,
            "grid_auto_columns": null,
            "grid_auto_flow": null,
            "grid_auto_rows": null,
            "grid_column": null,
            "grid_gap": null,
            "grid_row": null,
            "grid_template_areas": null,
            "grid_template_columns": null,
            "grid_template_rows": null,
            "height": null,
            "justify_content": null,
            "justify_items": null,
            "left": null,
            "margin": null,
            "max_height": null,
            "max_width": null,
            "min_height": null,
            "min_width": null,
            "object_fit": null,
            "object_position": null,
            "order": null,
            "overflow": null,
            "overflow_x": null,
            "overflow_y": null,
            "padding": null,
            "right": null,
            "top": null,
            "visibility": null,
            "width": null
          }
        },
        "9cfcb369dc13417ea5db4b6b2f7b87d8": {
          "model_module": "@jupyter-widgets/controls",
          "model_name": "DescriptionStyleModel",
          "model_module_version": "1.5.0",
          "state": {
            "_model_module": "@jupyter-widgets/controls",
            "_model_module_version": "1.5.0",
            "_model_name": "DescriptionStyleModel",
            "_view_count": null,
            "_view_module": "@jupyter-widgets/base",
            "_view_module_version": "1.2.0",
            "_view_name": "StyleView",
            "description_width": ""
          }
        },
        "1136c32106d24cfaa135b7a1552bd48d": {
          "model_module": "@jupyter-widgets/controls",
          "model_name": "HBoxModel",
          "model_module_version": "1.5.0",
          "state": {
            "_dom_classes": [],
            "_model_module": "@jupyter-widgets/controls",
            "_model_module_version": "1.5.0",
            "_model_name": "HBoxModel",
            "_view_count": null,
            "_view_module": "@jupyter-widgets/controls",
            "_view_module_version": "1.5.0",
            "_view_name": "HBoxView",
            "box_style": "",
            "children": [
              "IPY_MODEL_8c2163784f214b83990b2353fa917407",
              "IPY_MODEL_77267d9a2d894b0bac7fcd6f99d058be",
              "IPY_MODEL_843639aaca044c1e9c4082a0437510f2"
            ],
            "layout": "IPY_MODEL_d8bce9636cd44ae29612492b205abdb6"
          }
        },
        "8c2163784f214b83990b2353fa917407": {
          "model_module": "@jupyter-widgets/controls",
          "model_name": "HTMLModel",
          "model_module_version": "1.5.0",
          "state": {
            "_dom_classes": [],
            "_model_module": "@jupyter-widgets/controls",
            "_model_module_version": "1.5.0",
            "_model_name": "HTMLModel",
            "_view_count": null,
            "_view_module": "@jupyter-widgets/controls",
            "_view_module_version": "1.5.0",
            "_view_name": "HTMLView",
            "description": "",
            "description_tooltip": null,
            "layout": "IPY_MODEL_69eacdb695554eccb6be20094802b04f",
            "placeholder": "​",
            "style": "IPY_MODEL_6036ca8d84104c69be7b29293d101362",
            "value": "vocab.txt: 100%"
          }
        },
        "77267d9a2d894b0bac7fcd6f99d058be": {
          "model_module": "@jupyter-widgets/controls",
          "model_name": "FloatProgressModel",
          "model_module_version": "1.5.0",
          "state": {
            "_dom_classes": [],
            "_model_module": "@jupyter-widgets/controls",
            "_model_module_version": "1.5.0",
            "_model_name": "FloatProgressModel",
            "_view_count": null,
            "_view_module": "@jupyter-widgets/controls",
            "_view_module_version": "1.5.0",
            "_view_name": "ProgressView",
            "bar_style": "success",
            "description": "",
            "description_tooltip": null,
            "layout": "IPY_MODEL_f413f963e5cc481c9eb9f0b0d3821ac1",
            "max": 231508,
            "min": 0,
            "orientation": "horizontal",
            "style": "IPY_MODEL_8c5d9c71a39545e889882a195b61a14f",
            "value": 231508
          }
        },
        "843639aaca044c1e9c4082a0437510f2": {
          "model_module": "@jupyter-widgets/controls",
          "model_name": "HTMLModel",
          "model_module_version": "1.5.0",
          "state": {
            "_dom_classes": [],
            "_model_module": "@jupyter-widgets/controls",
            "_model_module_version": "1.5.0",
            "_model_name": "HTMLModel",
            "_view_count": null,
            "_view_module": "@jupyter-widgets/controls",
            "_view_module_version": "1.5.0",
            "_view_name": "HTMLView",
            "description": "",
            "description_tooltip": null,
            "layout": "IPY_MODEL_791c6edbb10849e4ad99548e8ff411e2",
            "placeholder": "​",
            "style": "IPY_MODEL_72279ac744be4ebea53eb431b07789f7",
            "value": " 232k/232k [00:00&lt;00:00, 3.64MB/s]"
          }
        },
        "d8bce9636cd44ae29612492b205abdb6": {
          "model_module": "@jupyter-widgets/base",
          "model_name": "LayoutModel",
          "model_module_version": "1.2.0",
          "state": {
            "_model_module": "@jupyter-widgets/base",
            "_model_module_version": "1.2.0",
            "_model_name": "LayoutModel",
            "_view_count": null,
            "_view_module": "@jupyter-widgets/base",
            "_view_module_version": "1.2.0",
            "_view_name": "LayoutView",
            "align_content": null,
            "align_items": null,
            "align_self": null,
            "border": null,
            "bottom": null,
            "display": null,
            "flex": null,
            "flex_flow": null,
            "grid_area": null,
            "grid_auto_columns": null,
            "grid_auto_flow": null,
            "grid_auto_rows": null,
            "grid_column": null,
            "grid_gap": null,
            "grid_row": null,
            "grid_template_areas": null,
            "grid_template_columns": null,
            "grid_template_rows": null,
            "height": null,
            "justify_content": null,
            "justify_items": null,
            "left": null,
            "margin": null,
            "max_height": null,
            "max_width": null,
            "min_height": null,
            "min_width": null,
            "object_fit": null,
            "object_position": null,
            "order": null,
            "overflow": null,
            "overflow_x": null,
            "overflow_y": null,
            "padding": null,
            "right": null,
            "top": null,
            "visibility": null,
            "width": null
          }
        },
        "69eacdb695554eccb6be20094802b04f": {
          "model_module": "@jupyter-widgets/base",
          "model_name": "LayoutModel",
          "model_module_version": "1.2.0",
          "state": {
            "_model_module": "@jupyter-widgets/base",
            "_model_module_version": "1.2.0",
            "_model_name": "LayoutModel",
            "_view_count": null,
            "_view_module": "@jupyter-widgets/base",
            "_view_module_version": "1.2.0",
            "_view_name": "LayoutView",
            "align_content": null,
            "align_items": null,
            "align_self": null,
            "border": null,
            "bottom": null,
            "display": null,
            "flex": null,
            "flex_flow": null,
            "grid_area": null,
            "grid_auto_columns": null,
            "grid_auto_flow": null,
            "grid_auto_rows": null,
            "grid_column": null,
            "grid_gap": null,
            "grid_row": null,
            "grid_template_areas": null,
            "grid_template_columns": null,
            "grid_template_rows": null,
            "height": null,
            "justify_content": null,
            "justify_items": null,
            "left": null,
            "margin": null,
            "max_height": null,
            "max_width": null,
            "min_height": null,
            "min_width": null,
            "object_fit": null,
            "object_position": null,
            "order": null,
            "overflow": null,
            "overflow_x": null,
            "overflow_y": null,
            "padding": null,
            "right": null,
            "top": null,
            "visibility": null,
            "width": null
          }
        },
        "6036ca8d84104c69be7b29293d101362": {
          "model_module": "@jupyter-widgets/controls",
          "model_name": "DescriptionStyleModel",
          "model_module_version": "1.5.0",
          "state": {
            "_model_module": "@jupyter-widgets/controls",
            "_model_module_version": "1.5.0",
            "_model_name": "DescriptionStyleModel",
            "_view_count": null,
            "_view_module": "@jupyter-widgets/base",
            "_view_module_version": "1.2.0",
            "_view_name": "StyleView",
            "description_width": ""
          }
        },
        "f413f963e5cc481c9eb9f0b0d3821ac1": {
          "model_module": "@jupyter-widgets/base",
          "model_name": "LayoutModel",
          "model_module_version": "1.2.0",
          "state": {
            "_model_module": "@jupyter-widgets/base",
            "_model_module_version": "1.2.0",
            "_model_name": "LayoutModel",
            "_view_count": null,
            "_view_module": "@jupyter-widgets/base",
            "_view_module_version": "1.2.0",
            "_view_name": "LayoutView",
            "align_content": null,
            "align_items": null,
            "align_self": null,
            "border": null,
            "bottom": null,
            "display": null,
            "flex": null,
            "flex_flow": null,
            "grid_area": null,
            "grid_auto_columns": null,
            "grid_auto_flow": null,
            "grid_auto_rows": null,
            "grid_column": null,
            "grid_gap": null,
            "grid_row": null,
            "grid_template_areas": null,
            "grid_template_columns": null,
            "grid_template_rows": null,
            "height": null,
            "justify_content": null,
            "justify_items": null,
            "left": null,
            "margin": null,
            "max_height": null,
            "max_width": null,
            "min_height": null,
            "min_width": null,
            "object_fit": null,
            "object_position": null,
            "order": null,
            "overflow": null,
            "overflow_x": null,
            "overflow_y": null,
            "padding": null,
            "right": null,
            "top": null,
            "visibility": null,
            "width": null
          }
        },
        "8c5d9c71a39545e889882a195b61a14f": {
          "model_module": "@jupyter-widgets/controls",
          "model_name": "ProgressStyleModel",
          "model_module_version": "1.5.0",
          "state": {
            "_model_module": "@jupyter-widgets/controls",
            "_model_module_version": "1.5.0",
            "_model_name": "ProgressStyleModel",
            "_view_count": null,
            "_view_module": "@jupyter-widgets/base",
            "_view_module_version": "1.2.0",
            "_view_name": "StyleView",
            "bar_color": null,
            "description_width": ""
          }
        },
        "791c6edbb10849e4ad99548e8ff411e2": {
          "model_module": "@jupyter-widgets/base",
          "model_name": "LayoutModel",
          "model_module_version": "1.2.0",
          "state": {
            "_model_module": "@jupyter-widgets/base",
            "_model_module_version": "1.2.0",
            "_model_name": "LayoutModel",
            "_view_count": null,
            "_view_module": "@jupyter-widgets/base",
            "_view_module_version": "1.2.0",
            "_view_name": "LayoutView",
            "align_content": null,
            "align_items": null,
            "align_self": null,
            "border": null,
            "bottom": null,
            "display": null,
            "flex": null,
            "flex_flow": null,
            "grid_area": null,
            "grid_auto_columns": null,
            "grid_auto_flow": null,
            "grid_auto_rows": null,
            "grid_column": null,
            "grid_gap": null,
            "grid_row": null,
            "grid_template_areas": null,
            "grid_template_columns": null,
            "grid_template_rows": null,
            "height": null,
            "justify_content": null,
            "justify_items": null,
            "left": null,
            "margin": null,
            "max_height": null,
            "max_width": null,
            "min_height": null,
            "min_width": null,
            "object_fit": null,
            "object_position": null,
            "order": null,
            "overflow": null,
            "overflow_x": null,
            "overflow_y": null,
            "padding": null,
            "right": null,
            "top": null,
            "visibility": null,
            "width": null
          }
        },
        "72279ac744be4ebea53eb431b07789f7": {
          "model_module": "@jupyter-widgets/controls",
          "model_name": "DescriptionStyleModel",
          "model_module_version": "1.5.0",
          "state": {
            "_model_module": "@jupyter-widgets/controls",
            "_model_module_version": "1.5.0",
            "_model_name": "DescriptionStyleModel",
            "_view_count": null,
            "_view_module": "@jupyter-widgets/base",
            "_view_module_version": "1.2.0",
            "_view_name": "StyleView",
            "description_width": ""
          }
        },
        "4fd3db28c3874e2db44e2157b32d9c09": {
          "model_module": "@jupyter-widgets/controls",
          "model_name": "HBoxModel",
          "model_module_version": "1.5.0",
          "state": {
            "_dom_classes": [],
            "_model_module": "@jupyter-widgets/controls",
            "_model_module_version": "1.5.0",
            "_model_name": "HBoxModel",
            "_view_count": null,
            "_view_module": "@jupyter-widgets/controls",
            "_view_module_version": "1.5.0",
            "_view_name": "HBoxView",
            "box_style": "",
            "children": [
              "IPY_MODEL_d5d7dd68929445fca5952a257570bb82",
              "IPY_MODEL_71c1cb0d30f44edd9302aa12b95c9970",
              "IPY_MODEL_325573b870b8445e8c1fb25a9dad71ad"
            ],
            "layout": "IPY_MODEL_f7e64832d0da4ea590c95f35991a0cc4"
          }
        },
        "d5d7dd68929445fca5952a257570bb82": {
          "model_module": "@jupyter-widgets/controls",
          "model_name": "HTMLModel",
          "model_module_version": "1.5.0",
          "state": {
            "_dom_classes": [],
            "_model_module": "@jupyter-widgets/controls",
            "_model_module_version": "1.5.0",
            "_model_name": "HTMLModel",
            "_view_count": null,
            "_view_module": "@jupyter-widgets/controls",
            "_view_module_version": "1.5.0",
            "_view_name": "HTMLView",
            "description": "",
            "description_tooltip": null,
            "layout": "IPY_MODEL_a0d8a595fe7a4468becb4e5807e4573f",
            "placeholder": "​",
            "style": "IPY_MODEL_8f328cd75e824a5f855382fb25b456ae",
            "value": "tokenizer.json: 100%"
          }
        },
        "71c1cb0d30f44edd9302aa12b95c9970": {
          "model_module": "@jupyter-widgets/controls",
          "model_name": "FloatProgressModel",
          "model_module_version": "1.5.0",
          "state": {
            "_dom_classes": [],
            "_model_module": "@jupyter-widgets/controls",
            "_model_module_version": "1.5.0",
            "_model_name": "FloatProgressModel",
            "_view_count": null,
            "_view_module": "@jupyter-widgets/controls",
            "_view_module_version": "1.5.0",
            "_view_name": "ProgressView",
            "bar_style": "success",
            "description": "",
            "description_tooltip": null,
            "layout": "IPY_MODEL_44d7e2f4f53e4c2ebdcf3baecf5d07dc",
            "max": 466062,
            "min": 0,
            "orientation": "horizontal",
            "style": "IPY_MODEL_e882663f00294772bee10578406f9199",
            "value": 466062
          }
        },
        "325573b870b8445e8c1fb25a9dad71ad": {
          "model_module": "@jupyter-widgets/controls",
          "model_name": "HTMLModel",
          "model_module_version": "1.5.0",
          "state": {
            "_dom_classes": [],
            "_model_module": "@jupyter-widgets/controls",
            "_model_module_version": "1.5.0",
            "_model_name": "HTMLModel",
            "_view_count": null,
            "_view_module": "@jupyter-widgets/controls",
            "_view_module_version": "1.5.0",
            "_view_name": "HTMLView",
            "description": "",
            "description_tooltip": null,
            "layout": "IPY_MODEL_12e2de3b6af646e1b87ba8ea73537e50",
            "placeholder": "​",
            "style": "IPY_MODEL_7fa18146dcfb415bb0ff89a2f9dd5f2b",
            "value": " 466k/466k [00:00&lt;00:00, 8.68MB/s]"
          }
        },
        "f7e64832d0da4ea590c95f35991a0cc4": {
          "model_module": "@jupyter-widgets/base",
          "model_name": "LayoutModel",
          "model_module_version": "1.2.0",
          "state": {
            "_model_module": "@jupyter-widgets/base",
            "_model_module_version": "1.2.0",
            "_model_name": "LayoutModel",
            "_view_count": null,
            "_view_module": "@jupyter-widgets/base",
            "_view_module_version": "1.2.0",
            "_view_name": "LayoutView",
            "align_content": null,
            "align_items": null,
            "align_self": null,
            "border": null,
            "bottom": null,
            "display": null,
            "flex": null,
            "flex_flow": null,
            "grid_area": null,
            "grid_auto_columns": null,
            "grid_auto_flow": null,
            "grid_auto_rows": null,
            "grid_column": null,
            "grid_gap": null,
            "grid_row": null,
            "grid_template_areas": null,
            "grid_template_columns": null,
            "grid_template_rows": null,
            "height": null,
            "justify_content": null,
            "justify_items": null,
            "left": null,
            "margin": null,
            "max_height": null,
            "max_width": null,
            "min_height": null,
            "min_width": null,
            "object_fit": null,
            "object_position": null,
            "order": null,
            "overflow": null,
            "overflow_x": null,
            "overflow_y": null,
            "padding": null,
            "right": null,
            "top": null,
            "visibility": null,
            "width": null
          }
        },
        "a0d8a595fe7a4468becb4e5807e4573f": {
          "model_module": "@jupyter-widgets/base",
          "model_name": "LayoutModel",
          "model_module_version": "1.2.0",
          "state": {
            "_model_module": "@jupyter-widgets/base",
            "_model_module_version": "1.2.0",
            "_model_name": "LayoutModel",
            "_view_count": null,
            "_view_module": "@jupyter-widgets/base",
            "_view_module_version": "1.2.0",
            "_view_name": "LayoutView",
            "align_content": null,
            "align_items": null,
            "align_self": null,
            "border": null,
            "bottom": null,
            "display": null,
            "flex": null,
            "flex_flow": null,
            "grid_area": null,
            "grid_auto_columns": null,
            "grid_auto_flow": null,
            "grid_auto_rows": null,
            "grid_column": null,
            "grid_gap": null,
            "grid_row": null,
            "grid_template_areas": null,
            "grid_template_columns": null,
            "grid_template_rows": null,
            "height": null,
            "justify_content": null,
            "justify_items": null,
            "left": null,
            "margin": null,
            "max_height": null,
            "max_width": null,
            "min_height": null,
            "min_width": null,
            "object_fit": null,
            "object_position": null,
            "order": null,
            "overflow": null,
            "overflow_x": null,
            "overflow_y": null,
            "padding": null,
            "right": null,
            "top": null,
            "visibility": null,
            "width": null
          }
        },
        "8f328cd75e824a5f855382fb25b456ae": {
          "model_module": "@jupyter-widgets/controls",
          "model_name": "DescriptionStyleModel",
          "model_module_version": "1.5.0",
          "state": {
            "_model_module": "@jupyter-widgets/controls",
            "_model_module_version": "1.5.0",
            "_model_name": "DescriptionStyleModel",
            "_view_count": null,
            "_view_module": "@jupyter-widgets/base",
            "_view_module_version": "1.2.0",
            "_view_name": "StyleView",
            "description_width": ""
          }
        },
        "44d7e2f4f53e4c2ebdcf3baecf5d07dc": {
          "model_module": "@jupyter-widgets/base",
          "model_name": "LayoutModel",
          "model_module_version": "1.2.0",
          "state": {
            "_model_module": "@jupyter-widgets/base",
            "_model_module_version": "1.2.0",
            "_model_name": "LayoutModel",
            "_view_count": null,
            "_view_module": "@jupyter-widgets/base",
            "_view_module_version": "1.2.0",
            "_view_name": "LayoutView",
            "align_content": null,
            "align_items": null,
            "align_self": null,
            "border": null,
            "bottom": null,
            "display": null,
            "flex": null,
            "flex_flow": null,
            "grid_area": null,
            "grid_auto_columns": null,
            "grid_auto_flow": null,
            "grid_auto_rows": null,
            "grid_column": null,
            "grid_gap": null,
            "grid_row": null,
            "grid_template_areas": null,
            "grid_template_columns": null,
            "grid_template_rows": null,
            "height": null,
            "justify_content": null,
            "justify_items": null,
            "left": null,
            "margin": null,
            "max_height": null,
            "max_width": null,
            "min_height": null,
            "min_width": null,
            "object_fit": null,
            "object_position": null,
            "order": null,
            "overflow": null,
            "overflow_x": null,
            "overflow_y": null,
            "padding": null,
            "right": null,
            "top": null,
            "visibility": null,
            "width": null
          }
        },
        "e882663f00294772bee10578406f9199": {
          "model_module": "@jupyter-widgets/controls",
          "model_name": "ProgressStyleModel",
          "model_module_version": "1.5.0",
          "state": {
            "_model_module": "@jupyter-widgets/controls",
            "_model_module_version": "1.5.0",
            "_model_name": "ProgressStyleModel",
            "_view_count": null,
            "_view_module": "@jupyter-widgets/base",
            "_view_module_version": "1.2.0",
            "_view_name": "StyleView",
            "bar_color": null,
            "description_width": ""
          }
        },
        "12e2de3b6af646e1b87ba8ea73537e50": {
          "model_module": "@jupyter-widgets/base",
          "model_name": "LayoutModel",
          "model_module_version": "1.2.0",
          "state": {
            "_model_module": "@jupyter-widgets/base",
            "_model_module_version": "1.2.0",
            "_model_name": "LayoutModel",
            "_view_count": null,
            "_view_module": "@jupyter-widgets/base",
            "_view_module_version": "1.2.0",
            "_view_name": "LayoutView",
            "align_content": null,
            "align_items": null,
            "align_self": null,
            "border": null,
            "bottom": null,
            "display": null,
            "flex": null,
            "flex_flow": null,
            "grid_area": null,
            "grid_auto_columns": null,
            "grid_auto_flow": null,
            "grid_auto_rows": null,
            "grid_column": null,
            "grid_gap": null,
            "grid_row": null,
            "grid_template_areas": null,
            "grid_template_columns": null,
            "grid_template_rows": null,
            "height": null,
            "justify_content": null,
            "justify_items": null,
            "left": null,
            "margin": null,
            "max_height": null,
            "max_width": null,
            "min_height": null,
            "min_width": null,
            "object_fit": null,
            "object_position": null,
            "order": null,
            "overflow": null,
            "overflow_x": null,
            "overflow_y": null,
            "padding": null,
            "right": null,
            "top": null,
            "visibility": null,
            "width": null
          }
        },
        "7fa18146dcfb415bb0ff89a2f9dd5f2b": {
          "model_module": "@jupyter-widgets/controls",
          "model_name": "DescriptionStyleModel",
          "model_module_version": "1.5.0",
          "state": {
            "_model_module": "@jupyter-widgets/controls",
            "_model_module_version": "1.5.0",
            "_model_name": "DescriptionStyleModel",
            "_view_count": null,
            "_view_module": "@jupyter-widgets/base",
            "_view_module_version": "1.2.0",
            "_view_name": "StyleView",
            "description_width": ""
          }
        },
        "0395930bc6d345648e16539c8582931f": {
          "model_module": "@jupyter-widgets/controls",
          "model_name": "HBoxModel",
          "model_module_version": "1.5.0",
          "state": {
            "_dom_classes": [],
            "_model_module": "@jupyter-widgets/controls",
            "_model_module_version": "1.5.0",
            "_model_name": "HBoxModel",
            "_view_count": null,
            "_view_module": "@jupyter-widgets/controls",
            "_view_module_version": "1.5.0",
            "_view_name": "HBoxView",
            "box_style": "",
            "children": [
              "IPY_MODEL_f7e046a1fb814104a40a067df92d975f",
              "IPY_MODEL_49b6ef716d4348f19ccf4f161adf7589",
              "IPY_MODEL_81633488393f4d018c5faa39837071af"
            ],
            "layout": "IPY_MODEL_cc0ddfb52483425b98a1f21e09a470ea"
          }
        },
        "f7e046a1fb814104a40a067df92d975f": {
          "model_module": "@jupyter-widgets/controls",
          "model_name": "HTMLModel",
          "model_module_version": "1.5.0",
          "state": {
            "_dom_classes": [],
            "_model_module": "@jupyter-widgets/controls",
            "_model_module_version": "1.5.0",
            "_model_name": "HTMLModel",
            "_view_count": null,
            "_view_module": "@jupyter-widgets/controls",
            "_view_module_version": "1.5.0",
            "_view_name": "HTMLView",
            "description": "",
            "description_tooltip": null,
            "layout": "IPY_MODEL_1072da90096d44d0ade3c05338f5a2d0",
            "placeholder": "​",
            "style": "IPY_MODEL_6ddd31cf898248d5b0699fa897436813",
            "value": "config.json: 100%"
          }
        },
        "49b6ef716d4348f19ccf4f161adf7589": {
          "model_module": "@jupyter-widgets/controls",
          "model_name": "FloatProgressModel",
          "model_module_version": "1.5.0",
          "state": {
            "_dom_classes": [],
            "_model_module": "@jupyter-widgets/controls",
            "_model_module_version": "1.5.0",
            "_model_name": "FloatProgressModel",
            "_view_count": null,
            "_view_module": "@jupyter-widgets/controls",
            "_view_module_version": "1.5.0",
            "_view_name": "ProgressView",
            "bar_style": "success",
            "description": "",
            "description_tooltip": null,
            "layout": "IPY_MODEL_77ba70ed7ab64994b4258eae3b4ea232",
            "max": 570,
            "min": 0,
            "orientation": "horizontal",
            "style": "IPY_MODEL_958a2c7239414e238909c88c8723de06",
            "value": 570
          }
        },
        "81633488393f4d018c5faa39837071af": {
          "model_module": "@jupyter-widgets/controls",
          "model_name": "HTMLModel",
          "model_module_version": "1.5.0",
          "state": {
            "_dom_classes": [],
            "_model_module": "@jupyter-widgets/controls",
            "_model_module_version": "1.5.0",
            "_model_name": "HTMLModel",
            "_view_count": null,
            "_view_module": "@jupyter-widgets/controls",
            "_view_module_version": "1.5.0",
            "_view_name": "HTMLView",
            "description": "",
            "description_tooltip": null,
            "layout": "IPY_MODEL_ebb649538fa94db88cf479951e29c81b",
            "placeholder": "​",
            "style": "IPY_MODEL_dffa71ee144742cea9e50ad62c872179",
            "value": " 570/570 [00:00&lt;00:00, 26.2kB/s]"
          }
        },
        "cc0ddfb52483425b98a1f21e09a470ea": {
          "model_module": "@jupyter-widgets/base",
          "model_name": "LayoutModel",
          "model_module_version": "1.2.0",
          "state": {
            "_model_module": "@jupyter-widgets/base",
            "_model_module_version": "1.2.0",
            "_model_name": "LayoutModel",
            "_view_count": null,
            "_view_module": "@jupyter-widgets/base",
            "_view_module_version": "1.2.0",
            "_view_name": "LayoutView",
            "align_content": null,
            "align_items": null,
            "align_self": null,
            "border": null,
            "bottom": null,
            "display": null,
            "flex": null,
            "flex_flow": null,
            "grid_area": null,
            "grid_auto_columns": null,
            "grid_auto_flow": null,
            "grid_auto_rows": null,
            "grid_column": null,
            "grid_gap": null,
            "grid_row": null,
            "grid_template_areas": null,
            "grid_template_columns": null,
            "grid_template_rows": null,
            "height": null,
            "justify_content": null,
            "justify_items": null,
            "left": null,
            "margin": null,
            "max_height": null,
            "max_width": null,
            "min_height": null,
            "min_width": null,
            "object_fit": null,
            "object_position": null,
            "order": null,
            "overflow": null,
            "overflow_x": null,
            "overflow_y": null,
            "padding": null,
            "right": null,
            "top": null,
            "visibility": null,
            "width": null
          }
        },
        "1072da90096d44d0ade3c05338f5a2d0": {
          "model_module": "@jupyter-widgets/base",
          "model_name": "LayoutModel",
          "model_module_version": "1.2.0",
          "state": {
            "_model_module": "@jupyter-widgets/base",
            "_model_module_version": "1.2.0",
            "_model_name": "LayoutModel",
            "_view_count": null,
            "_view_module": "@jupyter-widgets/base",
            "_view_module_version": "1.2.0",
            "_view_name": "LayoutView",
            "align_content": null,
            "align_items": null,
            "align_self": null,
            "border": null,
            "bottom": null,
            "display": null,
            "flex": null,
            "flex_flow": null,
            "grid_area": null,
            "grid_auto_columns": null,
            "grid_auto_flow": null,
            "grid_auto_rows": null,
            "grid_column": null,
            "grid_gap": null,
            "grid_row": null,
            "grid_template_areas": null,
            "grid_template_columns": null,
            "grid_template_rows": null,
            "height": null,
            "justify_content": null,
            "justify_items": null,
            "left": null,
            "margin": null,
            "max_height": null,
            "max_width": null,
            "min_height": null,
            "min_width": null,
            "object_fit": null,
            "object_position": null,
            "order": null,
            "overflow": null,
            "overflow_x": null,
            "overflow_y": null,
            "padding": null,
            "right": null,
            "top": null,
            "visibility": null,
            "width": null
          }
        },
        "6ddd31cf898248d5b0699fa897436813": {
          "model_module": "@jupyter-widgets/controls",
          "model_name": "DescriptionStyleModel",
          "model_module_version": "1.5.0",
          "state": {
            "_model_module": "@jupyter-widgets/controls",
            "_model_module_version": "1.5.0",
            "_model_name": "DescriptionStyleModel",
            "_view_count": null,
            "_view_module": "@jupyter-widgets/base",
            "_view_module_version": "1.2.0",
            "_view_name": "StyleView",
            "description_width": ""
          }
        },
        "77ba70ed7ab64994b4258eae3b4ea232": {
          "model_module": "@jupyter-widgets/base",
          "model_name": "LayoutModel",
          "model_module_version": "1.2.0",
          "state": {
            "_model_module": "@jupyter-widgets/base",
            "_model_module_version": "1.2.0",
            "_model_name": "LayoutModel",
            "_view_count": null,
            "_view_module": "@jupyter-widgets/base",
            "_view_module_version": "1.2.0",
            "_view_name": "LayoutView",
            "align_content": null,
            "align_items": null,
            "align_self": null,
            "border": null,
            "bottom": null,
            "display": null,
            "flex": null,
            "flex_flow": null,
            "grid_area": null,
            "grid_auto_columns": null,
            "grid_auto_flow": null,
            "grid_auto_rows": null,
            "grid_column": null,
            "grid_gap": null,
            "grid_row": null,
            "grid_template_areas": null,
            "grid_template_columns": null,
            "grid_template_rows": null,
            "height": null,
            "justify_content": null,
            "justify_items": null,
            "left": null,
            "margin": null,
            "max_height": null,
            "max_width": null,
            "min_height": null,
            "min_width": null,
            "object_fit": null,
            "object_position": null,
            "order": null,
            "overflow": null,
            "overflow_x": null,
            "overflow_y": null,
            "padding": null,
            "right": null,
            "top": null,
            "visibility": null,
            "width": null
          }
        },
        "958a2c7239414e238909c88c8723de06": {
          "model_module": "@jupyter-widgets/controls",
          "model_name": "ProgressStyleModel",
          "model_module_version": "1.5.0",
          "state": {
            "_model_module": "@jupyter-widgets/controls",
            "_model_module_version": "1.5.0",
            "_model_name": "ProgressStyleModel",
            "_view_count": null,
            "_view_module": "@jupyter-widgets/base",
            "_view_module_version": "1.2.0",
            "_view_name": "StyleView",
            "bar_color": null,
            "description_width": ""
          }
        },
        "ebb649538fa94db88cf479951e29c81b": {
          "model_module": "@jupyter-widgets/base",
          "model_name": "LayoutModel",
          "model_module_version": "1.2.0",
          "state": {
            "_model_module": "@jupyter-widgets/base",
            "_model_module_version": "1.2.0",
            "_model_name": "LayoutModel",
            "_view_count": null,
            "_view_module": "@jupyter-widgets/base",
            "_view_module_version": "1.2.0",
            "_view_name": "LayoutView",
            "align_content": null,
            "align_items": null,
            "align_self": null,
            "border": null,
            "bottom": null,
            "display": null,
            "flex": null,
            "flex_flow": null,
            "grid_area": null,
            "grid_auto_columns": null,
            "grid_auto_flow": null,
            "grid_auto_rows": null,
            "grid_column": null,
            "grid_gap": null,
            "grid_row": null,
            "grid_template_areas": null,
            "grid_template_columns": null,
            "grid_template_rows": null,
            "height": null,
            "justify_content": null,
            "justify_items": null,
            "left": null,
            "margin": null,
            "max_height": null,
            "max_width": null,
            "min_height": null,
            "min_width": null,
            "object_fit": null,
            "object_position": null,
            "order": null,
            "overflow": null,
            "overflow_x": null,
            "overflow_y": null,
            "padding": null,
            "right": null,
            "top": null,
            "visibility": null,
            "width": null
          }
        },
        "dffa71ee144742cea9e50ad62c872179": {
          "model_module": "@jupyter-widgets/controls",
          "model_name": "DescriptionStyleModel",
          "model_module_version": "1.5.0",
          "state": {
            "_model_module": "@jupyter-widgets/controls",
            "_model_module_version": "1.5.0",
            "_model_name": "DescriptionStyleModel",
            "_view_count": null,
            "_view_module": "@jupyter-widgets/base",
            "_view_module_version": "1.2.0",
            "_view_name": "StyleView",
            "description_width": ""
          }
        },
        "9da4a056583047cf9534348855e5f15d": {
          "model_module": "@jupyter-widgets/controls",
          "model_name": "HBoxModel",
          "model_module_version": "1.5.0",
          "state": {
            "_dom_classes": [],
            "_model_module": "@jupyter-widgets/controls",
            "_model_module_version": "1.5.0",
            "_model_name": "HBoxModel",
            "_view_count": null,
            "_view_module": "@jupyter-widgets/controls",
            "_view_module_version": "1.5.0",
            "_view_name": "HBoxView",
            "box_style": "",
            "children": [
              "IPY_MODEL_63973c22f3424158b39c5fcd5b70d7c0",
              "IPY_MODEL_40e57771b4cb474295bb4364a0bdd6d0",
              "IPY_MODEL_6d8ac79ba8ab49b3aba383c2377f2a17"
            ],
            "layout": "IPY_MODEL_fb1d510d9561438c9ab15e7a4aee8588"
          }
        },
        "63973c22f3424158b39c5fcd5b70d7c0": {
          "model_module": "@jupyter-widgets/controls",
          "model_name": "HTMLModel",
          "model_module_version": "1.5.0",
          "state": {
            "_dom_classes": [],
            "_model_module": "@jupyter-widgets/controls",
            "_model_module_version": "1.5.0",
            "_model_name": "HTMLModel",
            "_view_count": null,
            "_view_module": "@jupyter-widgets/controls",
            "_view_module_version": "1.5.0",
            "_view_name": "HTMLView",
            "description": "",
            "description_tooltip": null,
            "layout": "IPY_MODEL_e4afff33f0994b7aa9cdfaceb82a4a69",
            "placeholder": "​",
            "style": "IPY_MODEL_19b0cb30923543c890e4cf9ab9f4d48c",
            "value": "model.safetensors: 100%"
          }
        },
        "40e57771b4cb474295bb4364a0bdd6d0": {
          "model_module": "@jupyter-widgets/controls",
          "model_name": "FloatProgressModel",
          "model_module_version": "1.5.0",
          "state": {
            "_dom_classes": [],
            "_model_module": "@jupyter-widgets/controls",
            "_model_module_version": "1.5.0",
            "_model_name": "FloatProgressModel",
            "_view_count": null,
            "_view_module": "@jupyter-widgets/controls",
            "_view_module_version": "1.5.0",
            "_view_name": "ProgressView",
            "bar_style": "success",
            "description": "",
            "description_tooltip": null,
            "layout": "IPY_MODEL_ef53e622c38044bf90917ee47beefd17",
            "max": 440449768,
            "min": 0,
            "orientation": "horizontal",
            "style": "IPY_MODEL_8a54824ebee04f9eb203144ea2b2bc3d",
            "value": 440449768
          }
        },
        "6d8ac79ba8ab49b3aba383c2377f2a17": {
          "model_module": "@jupyter-widgets/controls",
          "model_name": "HTMLModel",
          "model_module_version": "1.5.0",
          "state": {
            "_dom_classes": [],
            "_model_module": "@jupyter-widgets/controls",
            "_model_module_version": "1.5.0",
            "_model_name": "HTMLModel",
            "_view_count": null,
            "_view_module": "@jupyter-widgets/controls",
            "_view_module_version": "1.5.0",
            "_view_name": "HTMLView",
            "description": "",
            "description_tooltip": null,
            "layout": "IPY_MODEL_186c9db4f10f44b7a406a107386c7ae3",
            "placeholder": "​",
            "style": "IPY_MODEL_57bdbeaf01da4fdb9a740e1e5f58c6d6",
            "value": " 440M/440M [00:02&lt;00:00, 192MB/s]"
          }
        },
        "fb1d510d9561438c9ab15e7a4aee8588": {
          "model_module": "@jupyter-widgets/base",
          "model_name": "LayoutModel",
          "model_module_version": "1.2.0",
          "state": {
            "_model_module": "@jupyter-widgets/base",
            "_model_module_version": "1.2.0",
            "_model_name": "LayoutModel",
            "_view_count": null,
            "_view_module": "@jupyter-widgets/base",
            "_view_module_version": "1.2.0",
            "_view_name": "LayoutView",
            "align_content": null,
            "align_items": null,
            "align_self": null,
            "border": null,
            "bottom": null,
            "display": null,
            "flex": null,
            "flex_flow": null,
            "grid_area": null,
            "grid_auto_columns": null,
            "grid_auto_flow": null,
            "grid_auto_rows": null,
            "grid_column": null,
            "grid_gap": null,
            "grid_row": null,
            "grid_template_areas": null,
            "grid_template_columns": null,
            "grid_template_rows": null,
            "height": null,
            "justify_content": null,
            "justify_items": null,
            "left": null,
            "margin": null,
            "max_height": null,
            "max_width": null,
            "min_height": null,
            "min_width": null,
            "object_fit": null,
            "object_position": null,
            "order": null,
            "overflow": null,
            "overflow_x": null,
            "overflow_y": null,
            "padding": null,
            "right": null,
            "top": null,
            "visibility": null,
            "width": null
          }
        },
        "e4afff33f0994b7aa9cdfaceb82a4a69": {
          "model_module": "@jupyter-widgets/base",
          "model_name": "LayoutModel",
          "model_module_version": "1.2.0",
          "state": {
            "_model_module": "@jupyter-widgets/base",
            "_model_module_version": "1.2.0",
            "_model_name": "LayoutModel",
            "_view_count": null,
            "_view_module": "@jupyter-widgets/base",
            "_view_module_version": "1.2.0",
            "_view_name": "LayoutView",
            "align_content": null,
            "align_items": null,
            "align_self": null,
            "border": null,
            "bottom": null,
            "display": null,
            "flex": null,
            "flex_flow": null,
            "grid_area": null,
            "grid_auto_columns": null,
            "grid_auto_flow": null,
            "grid_auto_rows": null,
            "grid_column": null,
            "grid_gap": null,
            "grid_row": null,
            "grid_template_areas": null,
            "grid_template_columns": null,
            "grid_template_rows": null,
            "height": null,
            "justify_content": null,
            "justify_items": null,
            "left": null,
            "margin": null,
            "max_height": null,
            "max_width": null,
            "min_height": null,
            "min_width": null,
            "object_fit": null,
            "object_position": null,
            "order": null,
            "overflow": null,
            "overflow_x": null,
            "overflow_y": null,
            "padding": null,
            "right": null,
            "top": null,
            "visibility": null,
            "width": null
          }
        },
        "19b0cb30923543c890e4cf9ab9f4d48c": {
          "model_module": "@jupyter-widgets/controls",
          "model_name": "DescriptionStyleModel",
          "model_module_version": "1.5.0",
          "state": {
            "_model_module": "@jupyter-widgets/controls",
            "_model_module_version": "1.5.0",
            "_model_name": "DescriptionStyleModel",
            "_view_count": null,
            "_view_module": "@jupyter-widgets/base",
            "_view_module_version": "1.2.0",
            "_view_name": "StyleView",
            "description_width": ""
          }
        },
        "ef53e622c38044bf90917ee47beefd17": {
          "model_module": "@jupyter-widgets/base",
          "model_name": "LayoutModel",
          "model_module_version": "1.2.0",
          "state": {
            "_model_module": "@jupyter-widgets/base",
            "_model_module_version": "1.2.0",
            "_model_name": "LayoutModel",
            "_view_count": null,
            "_view_module": "@jupyter-widgets/base",
            "_view_module_version": "1.2.0",
            "_view_name": "LayoutView",
            "align_content": null,
            "align_items": null,
            "align_self": null,
            "border": null,
            "bottom": null,
            "display": null,
            "flex": null,
            "flex_flow": null,
            "grid_area": null,
            "grid_auto_columns": null,
            "grid_auto_flow": null,
            "grid_auto_rows": null,
            "grid_column": null,
            "grid_gap": null,
            "grid_row": null,
            "grid_template_areas": null,
            "grid_template_columns": null,
            "grid_template_rows": null,
            "height": null,
            "justify_content": null,
            "justify_items": null,
            "left": null,
            "margin": null,
            "max_height": null,
            "max_width": null,
            "min_height": null,
            "min_width": null,
            "object_fit": null,
            "object_position": null,
            "order": null,
            "overflow": null,
            "overflow_x": null,
            "overflow_y": null,
            "padding": null,
            "right": null,
            "top": null,
            "visibility": null,
            "width": null
          }
        },
        "8a54824ebee04f9eb203144ea2b2bc3d": {
          "model_module": "@jupyter-widgets/controls",
          "model_name": "ProgressStyleModel",
          "model_module_version": "1.5.0",
          "state": {
            "_model_module": "@jupyter-widgets/controls",
            "_model_module_version": "1.5.0",
            "_model_name": "ProgressStyleModel",
            "_view_count": null,
            "_view_module": "@jupyter-widgets/base",
            "_view_module_version": "1.2.0",
            "_view_name": "StyleView",
            "bar_color": null,
            "description_width": ""
          }
        },
        "186c9db4f10f44b7a406a107386c7ae3": {
          "model_module": "@jupyter-widgets/base",
          "model_name": "LayoutModel",
          "model_module_version": "1.2.0",
          "state": {
            "_model_module": "@jupyter-widgets/base",
            "_model_module_version": "1.2.0",
            "_model_name": "LayoutModel",
            "_view_count": null,
            "_view_module": "@jupyter-widgets/base",
            "_view_module_version": "1.2.0",
            "_view_name": "LayoutView",
            "align_content": null,
            "align_items": null,
            "align_self": null,
            "border": null,
            "bottom": null,
            "display": null,
            "flex": null,
            "flex_flow": null,
            "grid_area": null,
            "grid_auto_columns": null,
            "grid_auto_flow": null,
            "grid_auto_rows": null,
            "grid_column": null,
            "grid_gap": null,
            "grid_row": null,
            "grid_template_areas": null,
            "grid_template_columns": null,
            "grid_template_rows": null,
            "height": null,
            "justify_content": null,
            "justify_items": null,
            "left": null,
            "margin": null,
            "max_height": null,
            "max_width": null,
            "min_height": null,
            "min_width": null,
            "object_fit": null,
            "object_position": null,
            "order": null,
            "overflow": null,
            "overflow_x": null,
            "overflow_y": null,
            "padding": null,
            "right": null,
            "top": null,
            "visibility": null,
            "width": null
          }
        },
        "57bdbeaf01da4fdb9a740e1e5f58c6d6": {
          "model_module": "@jupyter-widgets/controls",
          "model_name": "DescriptionStyleModel",
          "model_module_version": "1.5.0",
          "state": {
            "_model_module": "@jupyter-widgets/controls",
            "_model_module_version": "1.5.0",
            "_model_name": "DescriptionStyleModel",
            "_view_count": null,
            "_view_module": "@jupyter-widgets/base",
            "_view_module_version": "1.2.0",
            "_view_name": "StyleView",
            "description_width": ""
          }
        }
      }
    }
  },
  "nbformat": 4,
  "nbformat_minor": 0
}